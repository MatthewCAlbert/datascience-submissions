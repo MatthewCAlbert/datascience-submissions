{
 "cells": [
  {
   "cell_type": "markdown",
   "metadata": {},
   "source": [
    "# Final Project\n",
    "---\n",
    "Matthew Christopher Albert [matthewmcavaio@gmail.com]"
   ]
  },
  {
   "cell_type": "code",
   "execution_count": 31,
   "metadata": {
    "tags": []
   },
   "outputs": [
    {
     "output_type": "stream",
     "name": "stdout",
     "text": "id                       0\nUmur                     0\nKelas Pekerja            0\nBerat Akhir              0\nPendidikan               0\nJmlh Tahun Pendidikan    0\nStatus Perkawinan        0\nPekerjaan                0\nJenis Kelamin            0\nKeuntungan Kapital       0\nKerugian Capital         0\nJam per Minggu           0\nGaji                     0\ndtype: int64\n==========\nid                       0\nUmur                     0\nKelas Pekerja            0\nBerat Akhir              0\nPendidikan               0\nJmlh Tahun Pendidikan    0\nStatus Perkawinan        0\nPekerjaan                0\nJenis Kelamin            0\nKeuntungan Kapital       0\nKerugian Capital         0\nJam per Minggu           0\ndtype: int64\n"
    },
    {
     "output_type": "execute_result",
     "data": {
      "text/plain": "   id  Umur Kelas Pekerja  Berat Akhir Pendidikan  Jmlh Tahun Pendidikan  \\\n0   0    21    Wiraswasta       242912        SMA                      9   \n1   1    49    Wiraswasta       140782       10th                      6   \n2   2    44    Wiraswasta       120057         D3                     12   \n3   3    24    Wiraswasta       194630    Sarjana                     13   \n4   4    33    Wiraswasta       219619     Master                     14   \n\n      Status Perkawinan              Pekerjaan Jenis Kelamin  \\\n0  Belum Pernah Menikah         Servis Lainnya     Perempuan   \n1                 Cerai  Ekesekutif Managerial     Perempuan   \n2               Menikah  Ekesekutif Managerial         Laki2   \n3  Belum Pernah Menikah              Spesialis         Laki2   \n4               Menikah              Spesialis         Laki2   \n\n   Keuntungan Kapital  Kerugian Capital  Jam per Minggu   Gaji  \n0                 0.0               0.0            35.0  <=7jt  \n1                 0.0               0.0            40.0  <=7jt  \n2          61404000.0               0.0            45.0   >7jt  \n3                 0.0               0.0            35.0  <=7jt  \n4         210336000.0               0.0            40.0   >7jt  ",
      "text/html": "<div>\n<style scoped>\n    .dataframe tbody tr th:only-of-type {\n        vertical-align: middle;\n    }\n\n    .dataframe tbody tr th {\n        vertical-align: top;\n    }\n\n    .dataframe thead th {\n        text-align: right;\n    }\n</style>\n<table border=\"1\" class=\"dataframe\">\n  <thead>\n    <tr style=\"text-align: right;\">\n      <th></th>\n      <th>id</th>\n      <th>Umur</th>\n      <th>Kelas Pekerja</th>\n      <th>Berat Akhir</th>\n      <th>Pendidikan</th>\n      <th>Jmlh Tahun Pendidikan</th>\n      <th>Status Perkawinan</th>\n      <th>Pekerjaan</th>\n      <th>Jenis Kelamin</th>\n      <th>Keuntungan Kapital</th>\n      <th>Kerugian Capital</th>\n      <th>Jam per Minggu</th>\n      <th>Gaji</th>\n    </tr>\n  </thead>\n  <tbody>\n    <tr>\n      <th>0</th>\n      <td>0</td>\n      <td>21</td>\n      <td>Wiraswasta</td>\n      <td>242912</td>\n      <td>SMA</td>\n      <td>9</td>\n      <td>Belum Pernah Menikah</td>\n      <td>Servis Lainnya</td>\n      <td>Perempuan</td>\n      <td>0.0</td>\n      <td>0.0</td>\n      <td>35.0</td>\n      <td>&lt;=7jt</td>\n    </tr>\n    <tr>\n      <th>1</th>\n      <td>1</td>\n      <td>49</td>\n      <td>Wiraswasta</td>\n      <td>140782</td>\n      <td>10th</td>\n      <td>6</td>\n      <td>Cerai</td>\n      <td>Ekesekutif Managerial</td>\n      <td>Perempuan</td>\n      <td>0.0</td>\n      <td>0.0</td>\n      <td>40.0</td>\n      <td>&lt;=7jt</td>\n    </tr>\n    <tr>\n      <th>2</th>\n      <td>2</td>\n      <td>44</td>\n      <td>Wiraswasta</td>\n      <td>120057</td>\n      <td>D3</td>\n      <td>12</td>\n      <td>Menikah</td>\n      <td>Ekesekutif Managerial</td>\n      <td>Laki2</td>\n      <td>61404000.0</td>\n      <td>0.0</td>\n      <td>45.0</td>\n      <td>&gt;7jt</td>\n    </tr>\n    <tr>\n      <th>3</th>\n      <td>3</td>\n      <td>24</td>\n      <td>Wiraswasta</td>\n      <td>194630</td>\n      <td>Sarjana</td>\n      <td>13</td>\n      <td>Belum Pernah Menikah</td>\n      <td>Spesialis</td>\n      <td>Laki2</td>\n      <td>0.0</td>\n      <td>0.0</td>\n      <td>35.0</td>\n      <td>&lt;=7jt</td>\n    </tr>\n    <tr>\n      <th>4</th>\n      <td>4</td>\n      <td>33</td>\n      <td>Wiraswasta</td>\n      <td>219619</td>\n      <td>Master</td>\n      <td>14</td>\n      <td>Menikah</td>\n      <td>Spesialis</td>\n      <td>Laki2</td>\n      <td>210336000.0</td>\n      <td>0.0</td>\n      <td>40.0</td>\n      <td>&gt;7jt</td>\n    </tr>\n  </tbody>\n</table>\n</div>"
     },
     "metadata": {},
     "execution_count": 31
    }
   ],
   "source": [
    "import pandas as pd\n",
    "import numpy as np\n",
    "import matplotlib.pyplot as plt\n",
    "import seaborn as sns\n",
    "\n",
    "df_train = pd.read_csv(\"train.csv\")\n",
    "df_test = pd.read_csv(\"test.csv\")\n",
    "\n",
    "print(df_train.isnull().sum(),end=\"\\n\"+\"=\"*10+\"\\n\")\n",
    "print(df_test.isnull().sum())\n",
    "\n",
    "df_train.head()"
   ]
  },
  {
   "cell_type": "code",
   "execution_count": 32,
   "metadata": {
    "tags": []
   },
   "outputs": [
    {
     "output_type": "stream",
     "name": "stdout",
     "text": "['Kelas Pekerja', 'Pendidikan', 'Status Perkawinan', 'Pekerjaan', 'Jenis Kelamin', 'Gaji']\n['id', 'Umur', 'Berat Akhir', 'Jmlh Tahun Pendidikan', 'Keuntungan Kapital', 'Kerugian Capital', 'Jam per Minggu']\n"
    },
    {
     "output_type": "execute_result",
     "data": {
      "text/plain": "                 id          Umur   Berat Akhir  Jmlh Tahun Pendidikan  \\\ncount  35994.000000  35994.000000  3.599400e+04           35994.000000   \nmean   17996.500000     38.664555  1.899318e+05              10.079874   \nstd    10390.717131     13.676266  1.058023e+05               2.574813   \nmin        0.000000     17.000000  1.228500e+04               1.000000   \n25%     8998.250000     28.000000  1.177670e+05               9.000000   \n50%    17996.500000     37.000000  1.784665e+05              10.000000   \n75%    26994.750000     48.000000  2.379185e+05              12.000000   \nmax    35993.000000     90.000000  1.490400e+06              16.000000   \n\n       Keuntungan Kapital  Kerugian Capital  Jam per Minggu  \ncount        3.599400e+04      3.599400e+04    35994.000000  \nmean         1.503923e+07      1.217974e+06       40.435656  \nstd          1.029919e+08      5.631544e+06       12.367552  \nmin          0.000000e+00      0.000000e+00        1.000000  \n25%          0.000000e+00      0.000000e+00       40.000000  \n50%          0.000000e+00      0.000000e+00       40.000000  \n75%          0.000000e+00      0.000000e+00       45.000000  \nmax          1.399986e+09      6.098400e+07       99.000000  ",
      "text/html": "<div>\n<style scoped>\n    .dataframe tbody tr th:only-of-type {\n        vertical-align: middle;\n    }\n\n    .dataframe tbody tr th {\n        vertical-align: top;\n    }\n\n    .dataframe thead th {\n        text-align: right;\n    }\n</style>\n<table border=\"1\" class=\"dataframe\">\n  <thead>\n    <tr style=\"text-align: right;\">\n      <th></th>\n      <th>id</th>\n      <th>Umur</th>\n      <th>Berat Akhir</th>\n      <th>Jmlh Tahun Pendidikan</th>\n      <th>Keuntungan Kapital</th>\n      <th>Kerugian Capital</th>\n      <th>Jam per Minggu</th>\n    </tr>\n  </thead>\n  <tbody>\n    <tr>\n      <th>count</th>\n      <td>35994.000000</td>\n      <td>35994.000000</td>\n      <td>3.599400e+04</td>\n      <td>35994.000000</td>\n      <td>3.599400e+04</td>\n      <td>3.599400e+04</td>\n      <td>35994.000000</td>\n    </tr>\n    <tr>\n      <th>mean</th>\n      <td>17996.500000</td>\n      <td>38.664555</td>\n      <td>1.899318e+05</td>\n      <td>10.079874</td>\n      <td>1.503923e+07</td>\n      <td>1.217974e+06</td>\n      <td>40.435656</td>\n    </tr>\n    <tr>\n      <th>std</th>\n      <td>10390.717131</td>\n      <td>13.676266</td>\n      <td>1.058023e+05</td>\n      <td>2.574813</td>\n      <td>1.029919e+08</td>\n      <td>5.631544e+06</td>\n      <td>12.367552</td>\n    </tr>\n    <tr>\n      <th>min</th>\n      <td>0.000000</td>\n      <td>17.000000</td>\n      <td>1.228500e+04</td>\n      <td>1.000000</td>\n      <td>0.000000e+00</td>\n      <td>0.000000e+00</td>\n      <td>1.000000</td>\n    </tr>\n    <tr>\n      <th>25%</th>\n      <td>8998.250000</td>\n      <td>28.000000</td>\n      <td>1.177670e+05</td>\n      <td>9.000000</td>\n      <td>0.000000e+00</td>\n      <td>0.000000e+00</td>\n      <td>40.000000</td>\n    </tr>\n    <tr>\n      <th>50%</th>\n      <td>17996.500000</td>\n      <td>37.000000</td>\n      <td>1.784665e+05</td>\n      <td>10.000000</td>\n      <td>0.000000e+00</td>\n      <td>0.000000e+00</td>\n      <td>40.000000</td>\n    </tr>\n    <tr>\n      <th>75%</th>\n      <td>26994.750000</td>\n      <td>48.000000</td>\n      <td>2.379185e+05</td>\n      <td>12.000000</td>\n      <td>0.000000e+00</td>\n      <td>0.000000e+00</td>\n      <td>45.000000</td>\n    </tr>\n    <tr>\n      <th>max</th>\n      <td>35993.000000</td>\n      <td>90.000000</td>\n      <td>1.490400e+06</td>\n      <td>16.000000</td>\n      <td>1.399986e+09</td>\n      <td>6.098400e+07</td>\n      <td>99.000000</td>\n    </tr>\n  </tbody>\n</table>\n</div>"
     },
     "metadata": {},
     "execution_count": 32
    }
   ],
   "source": [
    "categorical_features=[features for features in df_train.columns if df_train[features].dtypes=='O']\n",
    "print(categorical_features)\n",
    "\n",
    "numerical_features=[features for features in df_train.columns if df_train[features].dtypes!='O']\n",
    "print(numerical_features)\n",
    "\n",
    "df_train.describe()"
   ]
  },
  {
   "cell_type": "markdown",
   "metadata": {},
   "source": [
    "---\n",
    "## Data Processing\n",
    "\n",
    "### EDA (Explolatory Data Analaysis)"
   ]
  },
  {
   "cell_type": "markdown",
   "metadata": {},
   "source": [
    "### Missing Values"
   ]
  },
  {
   "cell_type": "code",
   "execution_count": 33,
   "metadata": {
    "tags": []
   },
   "outputs": [
    {
     "output_type": "stream",
     "name": "stdout",
     "text": "(2063, 13)\n(2069, 13)\n(552, 12)\n(554, 12)\n"
    }
   ],
   "source": [
    "print(df_train[df_train['Kelas Pekerja'] == \"?\"].shape)\n",
    "print(df_train[df_train['Pekerjaan'] == \"?\"].shape)\n",
    "\n",
    "print(df_test[df_test['Kelas Pekerja'] == \"?\"].shape)\n",
    "print(df_test[df_test['Pekerjaan'] == \"?\"].shape)\n",
    "\n",
    "# df_train = df_train[df_train['Kelas Pekerja'] != \"?\"]\n",
    "# df_train = df_train[df_train['Pekerjaan'] != \"?\"]"
   ]
  },
  {
   "cell_type": "code",
   "execution_count": 34,
   "metadata": {},
   "outputs": [],
   "source": [
    "pendidikan_cat = {\"1st-4th\":0, \"5th-6th\":1, \"SD\":2, \"7th-8th\":3, \"9th\":4, \"10th\":5, \"11th\":6, \"12th\":7, \"SMA\":8, \"Pendidikan Tinggi\":9, \"D3\":10, \"D4\":11, \"Sarjana\":12, \"Master\":13, \"Doktor\":14, \"Sekolah Professional\": 15}\n",
    "\n",
    "pendidikan_cat_f = {\"1st-4th\":0, \"5th-6th\":1, \"SD\":1, \"7th-8th\":2, \"9th\":3, \"10th\":4, \"11th\":4, \"12th\":5, \"SMA\":5, \"Pendidikan Tinggi\":6, \"D3\":6, \"D4\":7, \"Sarjana\":7, \"Master\":8, \"Doktor\":9, \"Sekolah Professional\": 6}\n",
    "\n",
    "# df_train[df_train['Keuntungan Kapital'] > 0].count\n",
    "# df_train[df_train['Pekerjaan'] == \"?\"]"
   ]
  },
  {
   "cell_type": "markdown",
   "metadata": {},
   "source": [
    "### Label Encoding & Data Grouping"
   ]
  },
  {
   "cell_type": "code",
   "execution_count": 35,
   "metadata": {},
   "outputs": [],
   "source": [
    "from sklearn.preprocessing import LabelEncoder\n",
    "\n",
    "def dataEncoder(df_col):\n",
    "    lbl= LabelEncoder()\n",
    "    lbl.fit(list(df_col.values)) \n",
    "    return lbl.transform(list(df_col.values))\n",
    "\n",
    "# df = pd.get_dummies(df_train, columns=[\"Pendidikan\"])\n",
    "# df[\"Pendidikan\"] = df[\"Pendidikan\"].replace(list(pendidikan_cat))\n",
    "\n",
    "df_train['Gaji'] = dataEncoder(df_train['Gaji'])\n",
    "df_train['Pekerjaan'] = dataEncoder(df_train['Pekerjaan'])\n",
    "df_train['Kelas Pekerja'] = dataEncoder(df_train['Kelas Pekerja'])\n",
    "df_train['Jenis Kelamin'] = dataEncoder(df_train['Jenis Kelamin'])\n",
    "df_train['Status Perkawinan'] = dataEncoder(df_train['Status Perkawinan'])\n",
    "df_train['Pendidikan'] = df_train['Pendidikan'].replace(pendidikan_cat_f)\n",
    "\n",
    "df_test['Pekerjaan'] = dataEncoder(df_test['Pekerjaan'])\n",
    "df_test['Kelas Pekerja'] = dataEncoder(df_test['Kelas Pekerja'])\n",
    "df_test['Jenis Kelamin'] = dataEncoder(df_test['Jenis Kelamin'])\n",
    "df_test['Status Perkawinan'] = dataEncoder(df_test['Status Perkawinan'])\n",
    "df_test['Pendidikan'] = df_test['Pendidikan'].replace(pendidikan_cat_f)\n",
    "\n",
    "# df_test['Sex'] = dataEncoder(df_test['Sex'])\n",
    "# df_test['Embarked'] = dataEncoder(df_test['Embarked'])\n",
    "# df_test['Title'] = dataEncoder(df_test['Title'])"
   ]
  },
  {
   "cell_type": "code",
   "execution_count": 36,
   "metadata": {},
   "outputs": [],
   "source": [
    "def age_transform(dataset):\n",
    "    dataset.loc[ dataset['Umur'] <= 19, 'Umur' ] = 0,\n",
    "    dataset.loc[ (dataset['Umur'] > 19) & (dataset['Umur'] <= 24), 'Umur' ] = 1,\n",
    "    dataset.loc[ (dataset['Umur'] > 24) & (dataset['Umur'] <= 34), 'Umur' ] = 2,\n",
    "    dataset.loc[ (dataset['Umur'] > 34) & (dataset['Umur'] <= 44), 'Umur' ] = 3,\n",
    "    dataset.loc[ (dataset['Umur'] > 44) & (dataset['Umur'] <= 54), 'Umur' ] = 4,\n",
    "    dataset.loc[ (dataset['Umur'] > 54) & (dataset['Umur'] <= 64), 'Umur' ] = 5,\n",
    "    dataset.loc[ dataset['Umur'] > 64, 'Umur' ] = 6,\n",
    "    return dataset\n",
    "\n",
    "df_train = age_transform(df_train)\n",
    "df_test = age_transform(df_test)"
   ]
  },
  {
   "cell_type": "markdown",
   "metadata": {},
   "source": [
    "### Data Centering / Scaling"
   ]
  },
  {
   "cell_type": "code",
   "execution_count": 132,
   "metadata": {},
   "outputs": [],
   "source": [
    "# df_train[['Berat Akhir','Keuntungan Kapital','Kerugian Capital']]=(df_train[['Berat Akhir','Keuntungan Kapital','Kerugian Capital']]-df_train[['Berat Akhir','Keuntungan Kapital','Kerugian Capital']].mean())/df_train[['Berat Akhir','Keuntungan Kapital','Kerugian Capital']].std()\n",
    "\n",
    "# df_test[['Berat Akhir','Keuntungan Kapital','Kerugian Capital']]=(df_test[['Berat Akhir','Keuntungan Kapital','Kerugian Capital']]-df_test[['Berat Akhir','Keuntungan Kapital','Kerugian Capital']].mean())/df_test[['Berat Akhir','Keuntungan Kapital','Kerugian Capital']].std()"
   ]
  },
  {
   "cell_type": "code",
   "execution_count": 37,
   "metadata": {},
   "outputs": [
    {
     "output_type": "execute_result",
     "data": {
      "text/plain": "   id  Umur  Kelas Pekerja  Berat Akhir  Pendidikan  Jmlh Tahun Pendidikan  \\\n0   0     1              8       242912           5                      9   \n1   1     4              8       140782           4                      6   \n2   2     3              8       120057           6                     12   \n3   3     1              8       194630           7                     13   \n4   4     2              8       219619           8                     14   \n\n   Status Perkawinan  Pekerjaan  Jenis Kelamin  Keuntungan Kapital  \\\n0                  0         10              1                 0.0   \n1                  2          2              1                 0.0   \n2                  4          2              0          61404000.0   \n3                  0         11              0                 0.0   \n4                  4         11              0         210336000.0   \n\n   Kerugian Capital  Jam per Minggu  Gaji  \n0               0.0            35.0     0  \n1               0.0            40.0     0  \n2               0.0            45.0     1  \n3               0.0            35.0     0  \n4               0.0            40.0     1  ",
      "text/html": "<div>\n<style scoped>\n    .dataframe tbody tr th:only-of-type {\n        vertical-align: middle;\n    }\n\n    .dataframe tbody tr th {\n        vertical-align: top;\n    }\n\n    .dataframe thead th {\n        text-align: right;\n    }\n</style>\n<table border=\"1\" class=\"dataframe\">\n  <thead>\n    <tr style=\"text-align: right;\">\n      <th></th>\n      <th>id</th>\n      <th>Umur</th>\n      <th>Kelas Pekerja</th>\n      <th>Berat Akhir</th>\n      <th>Pendidikan</th>\n      <th>Jmlh Tahun Pendidikan</th>\n      <th>Status Perkawinan</th>\n      <th>Pekerjaan</th>\n      <th>Jenis Kelamin</th>\n      <th>Keuntungan Kapital</th>\n      <th>Kerugian Capital</th>\n      <th>Jam per Minggu</th>\n      <th>Gaji</th>\n    </tr>\n  </thead>\n  <tbody>\n    <tr>\n      <th>0</th>\n      <td>0</td>\n      <td>1</td>\n      <td>8</td>\n      <td>242912</td>\n      <td>5</td>\n      <td>9</td>\n      <td>0</td>\n      <td>10</td>\n      <td>1</td>\n      <td>0.0</td>\n      <td>0.0</td>\n      <td>35.0</td>\n      <td>0</td>\n    </tr>\n    <tr>\n      <th>1</th>\n      <td>1</td>\n      <td>4</td>\n      <td>8</td>\n      <td>140782</td>\n      <td>4</td>\n      <td>6</td>\n      <td>2</td>\n      <td>2</td>\n      <td>1</td>\n      <td>0.0</td>\n      <td>0.0</td>\n      <td>40.0</td>\n      <td>0</td>\n    </tr>\n    <tr>\n      <th>2</th>\n      <td>2</td>\n      <td>3</td>\n      <td>8</td>\n      <td>120057</td>\n      <td>6</td>\n      <td>12</td>\n      <td>4</td>\n      <td>2</td>\n      <td>0</td>\n      <td>61404000.0</td>\n      <td>0.0</td>\n      <td>45.0</td>\n      <td>1</td>\n    </tr>\n    <tr>\n      <th>3</th>\n      <td>3</td>\n      <td>1</td>\n      <td>8</td>\n      <td>194630</td>\n      <td>7</td>\n      <td>13</td>\n      <td>0</td>\n      <td>11</td>\n      <td>0</td>\n      <td>0.0</td>\n      <td>0.0</td>\n      <td>35.0</td>\n      <td>0</td>\n    </tr>\n    <tr>\n      <th>4</th>\n      <td>4</td>\n      <td>2</td>\n      <td>8</td>\n      <td>219619</td>\n      <td>8</td>\n      <td>14</td>\n      <td>4</td>\n      <td>11</td>\n      <td>0</td>\n      <td>210336000.0</td>\n      <td>0.0</td>\n      <td>40.0</td>\n      <td>1</td>\n    </tr>\n  </tbody>\n</table>\n</div>"
     },
     "metadata": {},
     "execution_count": 37
    }
   ],
   "source": [
    "df_train.head()"
   ]
  },
  {
   "cell_type": "code",
   "execution_count": 38,
   "metadata": {},
   "outputs": [
    {
     "output_type": "execute_result",
     "data": {
      "text/plain": "                             id      Umur  Kelas Pekerja  Berat Akhir  \\\nid                     1.000000 -0.000257      -0.003407     0.000503   \nUmur                  -0.000257  1.000000      -0.166821    -0.075125   \nKelas Pekerja         -0.003407 -0.166821       1.000000     0.041590   \nBerat Akhir            0.000503 -0.075125       0.041590     1.000000   \nPendidikan             0.008689  0.016863      -0.060884    -0.045705   \nJmlh Tahun Pendidikan  0.007473  0.054497      -0.076201    -0.040715   \nStatus Perkawinan      0.002111  0.496697      -0.098653    -0.036487   \nPekerjaan              0.002072 -0.027872       0.208083    -0.007599   \nJenis Kelamin         -0.003767 -0.095080       0.040356    -0.024006   \nKeuntungan Kapital     0.009452  0.077835      -0.043537     0.001944   \nKerugian Capital      -0.002831  0.051521      -0.024172    -0.003807   \nJam per Minggu         0.004061  0.112424       0.000893    -0.009896   \nGaji                   0.005335  0.240751      -0.048731    -0.004272   \n\n                       Pendidikan  Jmlh Tahun Pendidikan  Status Perkawinan  \\\nid                       0.008689               0.007473           0.002111   \nUmur                     0.016863               0.054497           0.496697   \nKelas Pekerja           -0.060884              -0.076201          -0.098653   \nBerat Akhir             -0.045705              -0.040715          -0.036487   \nPendidikan               1.000000               0.944818           0.022983   \nJmlh Tahun Pendidikan    0.944818               1.000000           0.052840   \nStatus Perkawinan        0.022983               0.052840           1.000000   \nPekerjaan                0.086400               0.109065          -0.002598   \nJenis Kelamin            0.007717              -0.010998          -0.311981   \nKeuntungan Kapital       0.083877               0.121350           0.077332   \nKerugian Capital         0.068143               0.081421           0.072786   \nJam per Minggu           0.114772               0.142300           0.213010   \nGaji                     0.288770               0.332439           0.405563   \n\n                       Pekerjaan  Jenis Kelamin  Keuntungan Kapital  \\\nid                      0.002072      -0.003767            0.009452   \nUmur                   -0.027872      -0.095080            0.077835   \nKelas Pekerja           0.208083       0.040356           -0.043537   \nBerat Akhir            -0.007599      -0.024006            0.001944   \nPendidikan              0.086400       0.007717            0.083877   \nJmlh Tahun Pendidikan   0.109065      -0.010998            0.121350   \nStatus Perkawinan      -0.002598      -0.311981            0.077332   \nPekerjaan               1.000000      -0.030186            0.012145   \nJenis Kelamin          -0.030186       1.000000           -0.046164   \nKeuntungan Kapital      0.012145      -0.046164            1.000000   \nKerugian Capital        0.000660      -0.049044           -0.031582   \nJam per Minggu          0.044432      -0.225321            0.083304   \nGaji                    0.025207      -0.210142            0.223689   \n\n                       Kerugian Capital  Jam per Minggu      Gaji  \nid                            -0.002831        0.004061  0.005335  \nUmur                           0.051521        0.112424  0.240751  \nKelas Pekerja                 -0.024172        0.000893 -0.048731  \nBerat Akhir                   -0.003807       -0.009896 -0.004272  \nPendidikan                     0.068143        0.114772  0.288770  \nJmlh Tahun Pendidikan          0.081421        0.142300  0.332439  \nStatus Perkawinan              0.072786        0.213010  0.405563  \nPekerjaan                      0.000660        0.044432  0.025207  \nJenis Kelamin                 -0.049044       -0.225321 -0.210142  \nKeuntungan Kapital            -0.031582        0.083304  0.223689  \nKerugian Capital               1.000000        0.060385  0.144413  \nJam per Minggu                 0.060385        1.000000  0.224214  \nGaji                           0.144413        0.224214  1.000000  ",
      "text/html": "<div>\n<style scoped>\n    .dataframe tbody tr th:only-of-type {\n        vertical-align: middle;\n    }\n\n    .dataframe tbody tr th {\n        vertical-align: top;\n    }\n\n    .dataframe thead th {\n        text-align: right;\n    }\n</style>\n<table border=\"1\" class=\"dataframe\">\n  <thead>\n    <tr style=\"text-align: right;\">\n      <th></th>\n      <th>id</th>\n      <th>Umur</th>\n      <th>Kelas Pekerja</th>\n      <th>Berat Akhir</th>\n      <th>Pendidikan</th>\n      <th>Jmlh Tahun Pendidikan</th>\n      <th>Status Perkawinan</th>\n      <th>Pekerjaan</th>\n      <th>Jenis Kelamin</th>\n      <th>Keuntungan Kapital</th>\n      <th>Kerugian Capital</th>\n      <th>Jam per Minggu</th>\n      <th>Gaji</th>\n    </tr>\n  </thead>\n  <tbody>\n    <tr>\n      <th>id</th>\n      <td>1.000000</td>\n      <td>-0.000257</td>\n      <td>-0.003407</td>\n      <td>0.000503</td>\n      <td>0.008689</td>\n      <td>0.007473</td>\n      <td>0.002111</td>\n      <td>0.002072</td>\n      <td>-0.003767</td>\n      <td>0.009452</td>\n      <td>-0.002831</td>\n      <td>0.004061</td>\n      <td>0.005335</td>\n    </tr>\n    <tr>\n      <th>Umur</th>\n      <td>-0.000257</td>\n      <td>1.000000</td>\n      <td>-0.166821</td>\n      <td>-0.075125</td>\n      <td>0.016863</td>\n      <td>0.054497</td>\n      <td>0.496697</td>\n      <td>-0.027872</td>\n      <td>-0.095080</td>\n      <td>0.077835</td>\n      <td>0.051521</td>\n      <td>0.112424</td>\n      <td>0.240751</td>\n    </tr>\n    <tr>\n      <th>Kelas Pekerja</th>\n      <td>-0.003407</td>\n      <td>-0.166821</td>\n      <td>1.000000</td>\n      <td>0.041590</td>\n      <td>-0.060884</td>\n      <td>-0.076201</td>\n      <td>-0.098653</td>\n      <td>0.208083</td>\n      <td>0.040356</td>\n      <td>-0.043537</td>\n      <td>-0.024172</td>\n      <td>0.000893</td>\n      <td>-0.048731</td>\n    </tr>\n    <tr>\n      <th>Berat Akhir</th>\n      <td>0.000503</td>\n      <td>-0.075125</td>\n      <td>0.041590</td>\n      <td>1.000000</td>\n      <td>-0.045705</td>\n      <td>-0.040715</td>\n      <td>-0.036487</td>\n      <td>-0.007599</td>\n      <td>-0.024006</td>\n      <td>0.001944</td>\n      <td>-0.003807</td>\n      <td>-0.009896</td>\n      <td>-0.004272</td>\n    </tr>\n    <tr>\n      <th>Pendidikan</th>\n      <td>0.008689</td>\n      <td>0.016863</td>\n      <td>-0.060884</td>\n      <td>-0.045705</td>\n      <td>1.000000</td>\n      <td>0.944818</td>\n      <td>0.022983</td>\n      <td>0.086400</td>\n      <td>0.007717</td>\n      <td>0.083877</td>\n      <td>0.068143</td>\n      <td>0.114772</td>\n      <td>0.288770</td>\n    </tr>\n    <tr>\n      <th>Jmlh Tahun Pendidikan</th>\n      <td>0.007473</td>\n      <td>0.054497</td>\n      <td>-0.076201</td>\n      <td>-0.040715</td>\n      <td>0.944818</td>\n      <td>1.000000</td>\n      <td>0.052840</td>\n      <td>0.109065</td>\n      <td>-0.010998</td>\n      <td>0.121350</td>\n      <td>0.081421</td>\n      <td>0.142300</td>\n      <td>0.332439</td>\n    </tr>\n    <tr>\n      <th>Status Perkawinan</th>\n      <td>0.002111</td>\n      <td>0.496697</td>\n      <td>-0.098653</td>\n      <td>-0.036487</td>\n      <td>0.022983</td>\n      <td>0.052840</td>\n      <td>1.000000</td>\n      <td>-0.002598</td>\n      <td>-0.311981</td>\n      <td>0.077332</td>\n      <td>0.072786</td>\n      <td>0.213010</td>\n      <td>0.405563</td>\n    </tr>\n    <tr>\n      <th>Pekerjaan</th>\n      <td>0.002072</td>\n      <td>-0.027872</td>\n      <td>0.208083</td>\n      <td>-0.007599</td>\n      <td>0.086400</td>\n      <td>0.109065</td>\n      <td>-0.002598</td>\n      <td>1.000000</td>\n      <td>-0.030186</td>\n      <td>0.012145</td>\n      <td>0.000660</td>\n      <td>0.044432</td>\n      <td>0.025207</td>\n    </tr>\n    <tr>\n      <th>Jenis Kelamin</th>\n      <td>-0.003767</td>\n      <td>-0.095080</td>\n      <td>0.040356</td>\n      <td>-0.024006</td>\n      <td>0.007717</td>\n      <td>-0.010998</td>\n      <td>-0.311981</td>\n      <td>-0.030186</td>\n      <td>1.000000</td>\n      <td>-0.046164</td>\n      <td>-0.049044</td>\n      <td>-0.225321</td>\n      <td>-0.210142</td>\n    </tr>\n    <tr>\n      <th>Keuntungan Kapital</th>\n      <td>0.009452</td>\n      <td>0.077835</td>\n      <td>-0.043537</td>\n      <td>0.001944</td>\n      <td>0.083877</td>\n      <td>0.121350</td>\n      <td>0.077332</td>\n      <td>0.012145</td>\n      <td>-0.046164</td>\n      <td>1.000000</td>\n      <td>-0.031582</td>\n      <td>0.083304</td>\n      <td>0.223689</td>\n    </tr>\n    <tr>\n      <th>Kerugian Capital</th>\n      <td>-0.002831</td>\n      <td>0.051521</td>\n      <td>-0.024172</td>\n      <td>-0.003807</td>\n      <td>0.068143</td>\n      <td>0.081421</td>\n      <td>0.072786</td>\n      <td>0.000660</td>\n      <td>-0.049044</td>\n      <td>-0.031582</td>\n      <td>1.000000</td>\n      <td>0.060385</td>\n      <td>0.144413</td>\n    </tr>\n    <tr>\n      <th>Jam per Minggu</th>\n      <td>0.004061</td>\n      <td>0.112424</td>\n      <td>0.000893</td>\n      <td>-0.009896</td>\n      <td>0.114772</td>\n      <td>0.142300</td>\n      <td>0.213010</td>\n      <td>0.044432</td>\n      <td>-0.225321</td>\n      <td>0.083304</td>\n      <td>0.060385</td>\n      <td>1.000000</td>\n      <td>0.224214</td>\n    </tr>\n    <tr>\n      <th>Gaji</th>\n      <td>0.005335</td>\n      <td>0.240751</td>\n      <td>-0.048731</td>\n      <td>-0.004272</td>\n      <td>0.288770</td>\n      <td>0.332439</td>\n      <td>0.405563</td>\n      <td>0.025207</td>\n      <td>-0.210142</td>\n      <td>0.223689</td>\n      <td>0.144413</td>\n      <td>0.224214</td>\n      <td>1.000000</td>\n    </tr>\n  </tbody>\n</table>\n</div>"
     },
     "metadata": {},
     "execution_count": 38
    }
   ],
   "source": [
    "df_train.corr()"
   ]
  },
  {
   "cell_type": "markdown",
   "metadata": {},
   "source": [
    "### Dropping Data"
   ]
  },
  {
   "cell_type": "code",
   "execution_count": 39,
   "metadata": {},
   "outputs": [],
   "source": [
    "drop_col = ['id', 'Berat Akhir']"
   ]
  },
  {
   "cell_type": "code",
   "execution_count": 40,
   "metadata": {},
   "outputs": [
    {
     "output_type": "execute_result",
     "data": {
      "text/plain": "                           Umur  Kelas Pekerja  Pendidikan  \\\nUmur                   1.000000      -0.166821    0.016863   \nKelas Pekerja         -0.166821       1.000000   -0.060884   \nPendidikan             0.016863      -0.060884    1.000000   \nJmlh Tahun Pendidikan  0.054497      -0.076201    0.944818   \nStatus Perkawinan      0.496697      -0.098653    0.022983   \nPekerjaan             -0.027872       0.208083    0.086400   \nJenis Kelamin         -0.095080       0.040356    0.007717   \nKeuntungan Kapital     0.077835      -0.043537    0.083877   \nKerugian Capital       0.051521      -0.024172    0.068143   \nJam per Minggu         0.112424       0.000893    0.114772   \nGaji                   0.240751      -0.048731    0.288770   \n\n                       Jmlh Tahun Pendidikan  Status Perkawinan  Pekerjaan  \\\nUmur                                0.054497           0.496697  -0.027872   \nKelas Pekerja                      -0.076201          -0.098653   0.208083   \nPendidikan                          0.944818           0.022983   0.086400   \nJmlh Tahun Pendidikan               1.000000           0.052840   0.109065   \nStatus Perkawinan                   0.052840           1.000000  -0.002598   \nPekerjaan                           0.109065          -0.002598   1.000000   \nJenis Kelamin                      -0.010998          -0.311981  -0.030186   \nKeuntungan Kapital                  0.121350           0.077332   0.012145   \nKerugian Capital                    0.081421           0.072786   0.000660   \nJam per Minggu                      0.142300           0.213010   0.044432   \nGaji                                0.332439           0.405563   0.025207   \n\n                       Jenis Kelamin  Keuntungan Kapital  Kerugian Capital  \\\nUmur                       -0.095080            0.077835          0.051521   \nKelas Pekerja               0.040356           -0.043537         -0.024172   \nPendidikan                  0.007717            0.083877          0.068143   \nJmlh Tahun Pendidikan      -0.010998            0.121350          0.081421   \nStatus Perkawinan          -0.311981            0.077332          0.072786   \nPekerjaan                  -0.030186            0.012145          0.000660   \nJenis Kelamin               1.000000           -0.046164         -0.049044   \nKeuntungan Kapital         -0.046164            1.000000         -0.031582   \nKerugian Capital           -0.049044           -0.031582          1.000000   \nJam per Minggu             -0.225321            0.083304          0.060385   \nGaji                       -0.210142            0.223689          0.144413   \n\n                       Jam per Minggu      Gaji  \nUmur                         0.112424  0.240751  \nKelas Pekerja                0.000893 -0.048731  \nPendidikan                   0.114772  0.288770  \nJmlh Tahun Pendidikan        0.142300  0.332439  \nStatus Perkawinan            0.213010  0.405563  \nPekerjaan                    0.044432  0.025207  \nJenis Kelamin               -0.225321 -0.210142  \nKeuntungan Kapital           0.083304  0.223689  \nKerugian Capital             0.060385  0.144413  \nJam per Minggu               1.000000  0.224214  \nGaji                         0.224214  1.000000  ",
      "text/html": "<div>\n<style scoped>\n    .dataframe tbody tr th:only-of-type {\n        vertical-align: middle;\n    }\n\n    .dataframe tbody tr th {\n        vertical-align: top;\n    }\n\n    .dataframe thead th {\n        text-align: right;\n    }\n</style>\n<table border=\"1\" class=\"dataframe\">\n  <thead>\n    <tr style=\"text-align: right;\">\n      <th></th>\n      <th>Umur</th>\n      <th>Kelas Pekerja</th>\n      <th>Pendidikan</th>\n      <th>Jmlh Tahun Pendidikan</th>\n      <th>Status Perkawinan</th>\n      <th>Pekerjaan</th>\n      <th>Jenis Kelamin</th>\n      <th>Keuntungan Kapital</th>\n      <th>Kerugian Capital</th>\n      <th>Jam per Minggu</th>\n      <th>Gaji</th>\n    </tr>\n  </thead>\n  <tbody>\n    <tr>\n      <th>Umur</th>\n      <td>1.000000</td>\n      <td>-0.166821</td>\n      <td>0.016863</td>\n      <td>0.054497</td>\n      <td>0.496697</td>\n      <td>-0.027872</td>\n      <td>-0.095080</td>\n      <td>0.077835</td>\n      <td>0.051521</td>\n      <td>0.112424</td>\n      <td>0.240751</td>\n    </tr>\n    <tr>\n      <th>Kelas Pekerja</th>\n      <td>-0.166821</td>\n      <td>1.000000</td>\n      <td>-0.060884</td>\n      <td>-0.076201</td>\n      <td>-0.098653</td>\n      <td>0.208083</td>\n      <td>0.040356</td>\n      <td>-0.043537</td>\n      <td>-0.024172</td>\n      <td>0.000893</td>\n      <td>-0.048731</td>\n    </tr>\n    <tr>\n      <th>Pendidikan</th>\n      <td>0.016863</td>\n      <td>-0.060884</td>\n      <td>1.000000</td>\n      <td>0.944818</td>\n      <td>0.022983</td>\n      <td>0.086400</td>\n      <td>0.007717</td>\n      <td>0.083877</td>\n      <td>0.068143</td>\n      <td>0.114772</td>\n      <td>0.288770</td>\n    </tr>\n    <tr>\n      <th>Jmlh Tahun Pendidikan</th>\n      <td>0.054497</td>\n      <td>-0.076201</td>\n      <td>0.944818</td>\n      <td>1.000000</td>\n      <td>0.052840</td>\n      <td>0.109065</td>\n      <td>-0.010998</td>\n      <td>0.121350</td>\n      <td>0.081421</td>\n      <td>0.142300</td>\n      <td>0.332439</td>\n    </tr>\n    <tr>\n      <th>Status Perkawinan</th>\n      <td>0.496697</td>\n      <td>-0.098653</td>\n      <td>0.022983</td>\n      <td>0.052840</td>\n      <td>1.000000</td>\n      <td>-0.002598</td>\n      <td>-0.311981</td>\n      <td>0.077332</td>\n      <td>0.072786</td>\n      <td>0.213010</td>\n      <td>0.405563</td>\n    </tr>\n    <tr>\n      <th>Pekerjaan</th>\n      <td>-0.027872</td>\n      <td>0.208083</td>\n      <td>0.086400</td>\n      <td>0.109065</td>\n      <td>-0.002598</td>\n      <td>1.000000</td>\n      <td>-0.030186</td>\n      <td>0.012145</td>\n      <td>0.000660</td>\n      <td>0.044432</td>\n      <td>0.025207</td>\n    </tr>\n    <tr>\n      <th>Jenis Kelamin</th>\n      <td>-0.095080</td>\n      <td>0.040356</td>\n      <td>0.007717</td>\n      <td>-0.010998</td>\n      <td>-0.311981</td>\n      <td>-0.030186</td>\n      <td>1.000000</td>\n      <td>-0.046164</td>\n      <td>-0.049044</td>\n      <td>-0.225321</td>\n      <td>-0.210142</td>\n    </tr>\n    <tr>\n      <th>Keuntungan Kapital</th>\n      <td>0.077835</td>\n      <td>-0.043537</td>\n      <td>0.083877</td>\n      <td>0.121350</td>\n      <td>0.077332</td>\n      <td>0.012145</td>\n      <td>-0.046164</td>\n      <td>1.000000</td>\n      <td>-0.031582</td>\n      <td>0.083304</td>\n      <td>0.223689</td>\n    </tr>\n    <tr>\n      <th>Kerugian Capital</th>\n      <td>0.051521</td>\n      <td>-0.024172</td>\n      <td>0.068143</td>\n      <td>0.081421</td>\n      <td>0.072786</td>\n      <td>0.000660</td>\n      <td>-0.049044</td>\n      <td>-0.031582</td>\n      <td>1.000000</td>\n      <td>0.060385</td>\n      <td>0.144413</td>\n    </tr>\n    <tr>\n      <th>Jam per Minggu</th>\n      <td>0.112424</td>\n      <td>0.000893</td>\n      <td>0.114772</td>\n      <td>0.142300</td>\n      <td>0.213010</td>\n      <td>0.044432</td>\n      <td>-0.225321</td>\n      <td>0.083304</td>\n      <td>0.060385</td>\n      <td>1.000000</td>\n      <td>0.224214</td>\n    </tr>\n    <tr>\n      <th>Gaji</th>\n      <td>0.240751</td>\n      <td>-0.048731</td>\n      <td>0.288770</td>\n      <td>0.332439</td>\n      <td>0.405563</td>\n      <td>0.025207</td>\n      <td>-0.210142</td>\n      <td>0.223689</td>\n      <td>0.144413</td>\n      <td>0.224214</td>\n      <td>1.000000</td>\n    </tr>\n  </tbody>\n</table>\n</div>"
     },
     "metadata": {},
     "execution_count": 40
    }
   ],
   "source": [
    "df_train.drop(columns=drop_col, axis=1).corr()"
   ]
  },
  {
   "cell_type": "markdown",
   "metadata": {},
   "source": [
    "---\n",
    "## Modeling"
   ]
  },
  {
   "cell_type": "code",
   "execution_count": 41,
   "metadata": {},
   "outputs": [],
   "source": [
    "X_train = df_train.drop(columns=['Gaji']+drop_col, axis=1)\n",
    "y_train = df_train['Gaji']\n",
    "\n",
    "X_test = df_test.drop(columns=drop_col, axis=1)"
   ]
  },
  {
   "cell_type": "code",
   "execution_count": 42,
   "metadata": {},
   "outputs": [],
   "source": [
    "from sklearn.model_selection import train_test_split\n",
    "from sklearn.model_selection import cross_validate, GridSearchCV, RandomizedSearchCV\n",
    "\n",
    "X_train_tr, X_train_ts, y_train_tr, y_train_ts =  train_test_split(X_train, y_train, test_size=0.25)"
   ]
  },
  {
   "cell_type": "code",
   "execution_count": 43,
   "metadata": {},
   "outputs": [
    {
     "output_type": "execute_result",
     "data": {
      "text/plain": "       Umur  Kelas Pekerja  Pendidikan  Jmlh Tahun Pendidikan  \\\n0         1              8           5                      9   \n1         4              8           4                      6   \n2         3              8           6                     12   \n3         1              8           7                     13   \n4         2              8           8                     14   \n...     ...            ...         ...                    ...   \n35989     4              1           5                      9   \n35990     6              2           6                     12   \n35991     1              1           7                     13   \n35992     4              8           5                      9   \n35993     4              8           7                     13   \n\n       Status Perkawinan  Pekerjaan  Jenis Kelamin  Keuntungan Kapital  \\\n0                      0         10              1                 0.0   \n1                      2          2              1                 0.0   \n2                      4          2              0          61404000.0   \n3                      0         11              0                 0.0   \n4                      4         11              0         210336000.0   \n...                  ...        ...            ...                 ...   \n35989                  4          7              0                 0.0   \n35990                  4          9              0                 0.0   \n35991                  4         11              1                 0.0   \n35992                  4          9              0                 0.0   \n35993                  4          2              0                 0.0   \n\n       Kerugian Capital  Jam per Minggu  \n0                   0.0            35.0  \n1                   0.0            40.0  \n2                   0.0            45.0  \n3                   0.0            35.0  \n4                   0.0            40.0  \n...                 ...             ...  \n35989               0.0            40.0  \n35990               0.0            40.0  \n35991               0.0            20.0  \n35992               0.0            45.0  \n35993               0.0            60.0  \n\n[35994 rows x 10 columns]",
      "text/html": "<div>\n<style scoped>\n    .dataframe tbody tr th:only-of-type {\n        vertical-align: middle;\n    }\n\n    .dataframe tbody tr th {\n        vertical-align: top;\n    }\n\n    .dataframe thead th {\n        text-align: right;\n    }\n</style>\n<table border=\"1\" class=\"dataframe\">\n  <thead>\n    <tr style=\"text-align: right;\">\n      <th></th>\n      <th>Umur</th>\n      <th>Kelas Pekerja</th>\n      <th>Pendidikan</th>\n      <th>Jmlh Tahun Pendidikan</th>\n      <th>Status Perkawinan</th>\n      <th>Pekerjaan</th>\n      <th>Jenis Kelamin</th>\n      <th>Keuntungan Kapital</th>\n      <th>Kerugian Capital</th>\n      <th>Jam per Minggu</th>\n    </tr>\n  </thead>\n  <tbody>\n    <tr>\n      <th>0</th>\n      <td>1</td>\n      <td>8</td>\n      <td>5</td>\n      <td>9</td>\n      <td>0</td>\n      <td>10</td>\n      <td>1</td>\n      <td>0.0</td>\n      <td>0.0</td>\n      <td>35.0</td>\n    </tr>\n    <tr>\n      <th>1</th>\n      <td>4</td>\n      <td>8</td>\n      <td>4</td>\n      <td>6</td>\n      <td>2</td>\n      <td>2</td>\n      <td>1</td>\n      <td>0.0</td>\n      <td>0.0</td>\n      <td>40.0</td>\n    </tr>\n    <tr>\n      <th>2</th>\n      <td>3</td>\n      <td>8</td>\n      <td>6</td>\n      <td>12</td>\n      <td>4</td>\n      <td>2</td>\n      <td>0</td>\n      <td>61404000.0</td>\n      <td>0.0</td>\n      <td>45.0</td>\n    </tr>\n    <tr>\n      <th>3</th>\n      <td>1</td>\n      <td>8</td>\n      <td>7</td>\n      <td>13</td>\n      <td>0</td>\n      <td>11</td>\n      <td>0</td>\n      <td>0.0</td>\n      <td>0.0</td>\n      <td>35.0</td>\n    </tr>\n    <tr>\n      <th>4</th>\n      <td>2</td>\n      <td>8</td>\n      <td>8</td>\n      <td>14</td>\n      <td>4</td>\n      <td>11</td>\n      <td>0</td>\n      <td>210336000.0</td>\n      <td>0.0</td>\n      <td>40.0</td>\n    </tr>\n    <tr>\n      <th>...</th>\n      <td>...</td>\n      <td>...</td>\n      <td>...</td>\n      <td>...</td>\n      <td>...</td>\n      <td>...</td>\n      <td>...</td>\n      <td>...</td>\n      <td>...</td>\n      <td>...</td>\n    </tr>\n    <tr>\n      <th>35989</th>\n      <td>4</td>\n      <td>1</td>\n      <td>5</td>\n      <td>9</td>\n      <td>4</td>\n      <td>7</td>\n      <td>0</td>\n      <td>0.0</td>\n      <td>0.0</td>\n      <td>40.0</td>\n    </tr>\n    <tr>\n      <th>35990</th>\n      <td>6</td>\n      <td>2</td>\n      <td>6</td>\n      <td>12</td>\n      <td>4</td>\n      <td>9</td>\n      <td>0</td>\n      <td>0.0</td>\n      <td>0.0</td>\n      <td>40.0</td>\n    </tr>\n    <tr>\n      <th>35991</th>\n      <td>1</td>\n      <td>1</td>\n      <td>7</td>\n      <td>13</td>\n      <td>4</td>\n      <td>11</td>\n      <td>1</td>\n      <td>0.0</td>\n      <td>0.0</td>\n      <td>20.0</td>\n    </tr>\n    <tr>\n      <th>35992</th>\n      <td>4</td>\n      <td>8</td>\n      <td>5</td>\n      <td>9</td>\n      <td>4</td>\n      <td>9</td>\n      <td>0</td>\n      <td>0.0</td>\n      <td>0.0</td>\n      <td>45.0</td>\n    </tr>\n    <tr>\n      <th>35993</th>\n      <td>4</td>\n      <td>8</td>\n      <td>7</td>\n      <td>13</td>\n      <td>4</td>\n      <td>2</td>\n      <td>0</td>\n      <td>0.0</td>\n      <td>0.0</td>\n      <td>60.0</td>\n    </tr>\n  </tbody>\n</table>\n<p>35994 rows × 10 columns</p>\n</div>"
     },
     "metadata": {},
     "execution_count": 43
    }
   ],
   "source": [
    "X_train"
   ]
  },
  {
   "cell_type": "markdown",
   "metadata": {},
   "source": [
    "### Instantiate & Hyperparameter Tuning"
   ]
  },
  {
   "cell_type": "code",
   "execution_count": 44,
   "metadata": {
    "tags": []
   },
   "outputs": [
    {
     "output_type": "stream",
     "name": "stdout",
     "text": "(3599, 10)\n(3599,)\n"
    }
   ],
   "source": [
    "#Tuning\n",
    "from sklearn.ensemble import RandomForestClassifier, GradientBoostingClassifier, BaggingClassifier\n",
    "from sklearn.multiclass import OneVsRestClassifier\n",
    "from sklearn.naive_bayes import GaussianNB\n",
    "from sklearn.tree import DecisionTreeClassifier\n",
    "from sklearn.neighbors import KNeighborsClassifier\n",
    "from sklearn.svm import SVC, LinearSVC\n",
    "\n",
    "scoring = 'roc_auc'\n",
    "\n",
    "# Use sampling\n",
    "df_train_sample = df_train.sample(frac=.1)\n",
    "X_tuning = df_train_sample.drop(columns=['Gaji']+drop_col, axis=1)\n",
    "y_tuning = df_train_sample['Gaji']\n",
    "print(X_tuning.shape)\n",
    "print(y_tuning.shape)\n",
    "# End sampling\n",
    "\n",
    "def tuneHyper(model, param_grid, random=False, n_iter=100, use_tuning=True, cv=5, vb=1):\n",
    "    gscv = \"\"\n",
    "    if not random:\n",
    "        gscv = GridSearchCV(model, param_grid=param_grid, scoring=scoring, cv=cv, verbose=vb, n_jobs=-1)\n",
    "    else:\n",
    "        gscv = RandomizedSearchCV(model, n_iter=n_iter, param_distributions=param_grid, scoring=scoring, cv=cv, verbose=vb, n_jobs=-1)\n",
    "\n",
    "    if use_tuning:\n",
    "        gscv.fit(X_tuning,y_tuning)\n",
    "    else:\n",
    "        gscv.fit(X_train,y_train)\n",
    "    print(f\" {gscv.best_params_}=> {gscv.best_score_}\")"
   ]
  },
  {
   "cell_type": "code",
   "execution_count": 15,
   "metadata": {
    "tags": []
   },
   "outputs": [
    {
     "output_type": "stream",
     "name": "stdout",
     "text": "Fitting 5 folds for each of 400 candidates, totalling 2000 fits\n[Parallel(n_jobs=-1)]: Using backend LokyBackend with 8 concurrent workers.\n[Parallel(n_jobs=-1)]: Done  34 tasks      | elapsed:   12.9s\n[Parallel(n_jobs=-1)]: Done 184 tasks      | elapsed:   57.4s\n[Parallel(n_jobs=-1)]: Done 434 tasks      | elapsed:  2.6min\n[Parallel(n_jobs=-1)]: Done 784 tasks      | elapsed:  5.3min\n[Parallel(n_jobs=-1)]: Done 1234 tasks      | elapsed:  9.7min\n[Parallel(n_jobs=-1)]: Done 1784 tasks      | elapsed: 16.5min\n[Parallel(n_jobs=-1)]: Done 2000 out of 2000 | elapsed: 20.0min finished\n {'max_depth': 5, 'n_estimators': 152}=> 0.9210120522714194\n"
    }
   ],
   "source": [
    "model = GradientBoostingClassifier()\n",
    "param_grid = {'n_estimators':np.arange(100,180), 'max_depth':np.arange(2,7)}\n",
    "\n",
    "tuneHyper(model, param_grid, False, use_tuning=False)"
   ]
  },
  {
   "cell_type": "code",
   "execution_count": 23,
   "metadata": {
    "tags": []
   },
   "outputs": [
    {
     "output_type": "stream",
     "name": "stdout",
     "text": "Fitting 5 folds for each of 2280 candidates, totalling 11400 fits\n[Parallel(n_jobs=-1)]: Using backend LokyBackend with 8 concurrent workers.\n[Parallel(n_jobs=-1)]: Done  34 tasks      | elapsed:    6.3s\n[Parallel(n_jobs=-1)]: Done 184 tasks      | elapsed:   32.0s\n[Parallel(n_jobs=-1)]: Done 434 tasks      | elapsed:  1.8min\n[Parallel(n_jobs=-1)]: Done 784 tasks      | elapsed:  3.5min\n[Parallel(n_jobs=-1)]: Done 1234 tasks      | elapsed:  5.9min\n[Parallel(n_jobs=-1)]: Done 1784 tasks      | elapsed:  8.4min\n[Parallel(n_jobs=-1)]: Done 2434 tasks      | elapsed: 11.0min\n[Parallel(n_jobs=-1)]: Done 3184 tasks      | elapsed: 13.8min\n[Parallel(n_jobs=-1)]: Done 4034 tasks      | elapsed: 17.2min\n[Parallel(n_jobs=-1)]: Done 4984 tasks      | elapsed: 20.9min\n[Parallel(n_jobs=-1)]: Done 6034 tasks      | elapsed: 25.2min\n[Parallel(n_jobs=-1)]: Done 7184 tasks      | elapsed: 29.5min\n[Parallel(n_jobs=-1)]: Done 8434 tasks      | elapsed: 34.1min\n[Parallel(n_jobs=-1)]: Done 9784 tasks      | elapsed: 38.7min\n[Parallel(n_jobs=-1)]: Done 11234 tasks      | elapsed: 43.9min\n[Parallel(n_jobs=-1)]: Done 11400 out of 11400 | elapsed: 44.8min finished\n {'min_samples_leaf': 5, 'n_estimators': 125}=> 0.9111430473979858\n"
    }
   ],
   "source": [
    "model = RandomForestClassifier()\n",
    "param_grid = {'n_estimators':np.arange(20,140),'min_samples_leaf':np.arange(1,20)}\n",
    "\n",
    "tuneHyper(model, param_grid, False, use_tuning=False)"
   ]
  },
  {
   "cell_type": "code",
   "execution_count": 55,
   "metadata": {
    "tags": []
   },
   "outputs": [
    {
     "output_type": "stream",
     "name": "stdout",
     "text": "Fitting 5 folds for each of 40 candidates, totalling 200 fits\n[Parallel(n_jobs=-1)]: Using backend LokyBackend with 8 concurrent workers.\n[Parallel(n_jobs=-1)]: Done  34 tasks      | elapsed:   20.0s\n[Parallel(n_jobs=-1)]: Done 184 tasks      | elapsed:  1.7min\n[Parallel(n_jobs=-1)]: Done 200 out of 200 | elapsed:  1.8min finished\n {'n_neighbors': 31, 'weights': 'uniform'}=> 0.9090577523690305\n"
    }
   ],
   "source": [
    "model = KNeighborsClassifier()\n",
    "param_grid = {'n_neighbors':np.arange(20,60), 'weights':['uniform']}\n",
    "\n",
    "tuneHyper(model, param_grid, False, use_tuning=False)"
   ]
  },
  {
   "cell_type": "code",
   "execution_count": 13,
   "metadata": {
    "tags": []
   },
   "outputs": [
    {
     "name": "stdout",
     "output_type": "stream",
     "text": [
      "Fitting 5 folds for each of 2 candidates, totalling 10 fits\n",
      "[Parallel(n_jobs=1)]: Using backend SequentialBackend with 1 concurrent workers.\n"
     ]
    }
   ],
   "source": [
    "# model = SVC()\n",
    "# param_grid = {'kernel':['linear', 'poly', 'rbf', 'sigmoid', 'precomputed']}\n",
    "# param_grid = {'kernel':['linear', 'rbf']}\n",
    "\n",
    "# tuneHyper(model, param_grid)"
   ]
  },
  {
   "cell_type": "code",
   "execution_count": 51,
   "metadata": {
    "tags": []
   },
   "outputs": [
    {
     "output_type": "stream",
     "name": "stdout",
     "text": "Fitting 5 folds for each of 374 candidates, totalling 1870 fits\n[Parallel(n_jobs=-1)]: Using backend LokyBackend with 8 concurrent workers.\n[Parallel(n_jobs=-1)]: Done  52 tasks      | elapsed:    0.5s\n[Parallel(n_jobs=-1)]: Done 352 tasks      | elapsed:    2.7s\n[Parallel(n_jobs=-1)]: Done 852 tasks      | elapsed:    7.1s\n[Parallel(n_jobs=-1)]: Done 1552 tasks      | elapsed:   14.5s\n {'max_depth': 11, 'min_samples_leaf': 25}=> 0.9052935531149279\n[Parallel(n_jobs=-1)]: Done 1855 out of 1870 | elapsed:   17.9s remaining:    0.0s\n[Parallel(n_jobs=-1)]: Done 1870 out of 1870 | elapsed:   18.1s finished\n"
    }
   ],
   "source": [
    "model = DecisionTreeClassifier()\n",
    "param_grid = {'max_depth':np.arange(4,15),'min_samples_leaf':np.arange(1,35)}\n",
    "\n",
    "tuneHyper(model, param_grid, False, use_tuning=False)"
   ]
  },
  {
   "cell_type": "markdown",
   "metadata": {},
   "source": [
    "### Final Validation"
   ]
  },
  {
   "cell_type": "code",
   "execution_count": 45,
   "metadata": {},
   "outputs": [],
   "source": [
    "# Functions\n",
    "def printScore(model, X, y, cv=5):\n",
    "    score = cross_validate(model, X, y, scoring=scoring, cv=cv, return_train_score=True)\n",
    "    print(\"Test score: \",score[\"test_score\"].mean())\n",
    "    print(\"Train score: \",score[\"train_score\"].mean())\n",
    "\n",
    "def double_test(model, use_sample=False):\n",
    "    if not use_sample:\n",
    "        model_a = model\n",
    "        model_a.fit(X_train_tr, y_train_tr)\n",
    "        printScore(model_a, X_train_ts, y_train_ts)\n",
    "\n",
    "        model_b = model\n",
    "        model_b.fit(X_train, y_train)\n",
    "        printScore(model_b, X_train, y_train)\n",
    "    else:\n",
    "        model_a = model\n",
    "        model_a.fit(X_tuning, y_tuning)\n",
    "        printScore(model_a, X_tuning, y_tuning)\n",
    "\n",
    "def lpsv_prob(model, test):\n",
    "    prob_pos = model.decision_function(test)\n",
    "    prob_pos = (prob_pos - prob_pos.min()) / (prob_pos.max() - prob_pos.min())\n",
    "    return prob_pos"
   ]
  },
  {
   "cell_type": "code",
   "execution_count": 58,
   "metadata": {
    "tags": []
   },
   "outputs": [],
   "source": [
    "# model_svc = SVC(kernel=\"rbf\")\n",
    "# double_test(model_svc)"
   ]
  },
  {
   "cell_type": "code",
   "execution_count": 65,
   "metadata": {
    "tags": []
   },
   "outputs": [
    {
     "output_type": "error",
     "ename": "ValueError",
     "evalue": "class_weight must be dict, 'balanced', or None, got: 'auto'",
     "traceback": [
      "\u001b[1;31m---------------------------------------------------------------------------\u001b[0m",
      "\u001b[1;31mValueError\u001b[0m                                Traceback (most recent call last)",
      "\u001b[1;32m<ipython-input-65-8bedfd033761>\u001b[0m in \u001b[0;36m<module>\u001b[1;34m\u001b[0m\n\u001b[0;32m      5\u001b[0m \u001b[1;33m\u001b[0m\u001b[0m\n\u001b[0;32m      6\u001b[0m \u001b[1;31m# clf.fit(X_tuning, y_tuning)\u001b[0m\u001b[1;33m\u001b[0m\u001b[1;33m\u001b[0m\u001b[1;33m\u001b[0m\u001b[0m\n\u001b[1;32m----> 7\u001b[1;33m \u001b[0mclf\u001b[0m\u001b[1;33m.\u001b[0m\u001b[0mfit\u001b[0m\u001b[1;33m(\u001b[0m\u001b[0mX_train\u001b[0m\u001b[1;33m,\u001b[0m \u001b[0my_train\u001b[0m\u001b[1;33m)\u001b[0m\u001b[1;33m\u001b[0m\u001b[1;33m\u001b[0m\u001b[0m\n\u001b[0m\u001b[0;32m      8\u001b[0m \u001b[1;33m\u001b[0m\u001b[0m\n\u001b[0;32m      9\u001b[0m \u001b[0mprintScore\u001b[0m\u001b[1;33m(\u001b[0m\u001b[0mclf\u001b[0m\u001b[1;33m,\u001b[0m \u001b[0mX_tuning\u001b[0m\u001b[1;33m,\u001b[0m \u001b[0my_tuning\u001b[0m\u001b[1;33m)\u001b[0m\u001b[1;33m\u001b[0m\u001b[1;33m\u001b[0m\u001b[0m\n",
      "\u001b[1;32mC:\\Python\\lib\\site-packages\\sklearn\\multiclass.py\u001b[0m in \u001b[0;36mfit\u001b[1;34m(self, X, y)\u001b[0m\n\u001b[0;32m    239\u001b[0m         \u001b[1;31m# n_jobs > 1 in can results in slower performance due to the overhead\u001b[0m\u001b[1;33m\u001b[0m\u001b[1;33m\u001b[0m\u001b[1;33m\u001b[0m\u001b[0m\n\u001b[0;32m    240\u001b[0m         \u001b[1;31m# of spawning threads.  See joblib issue #112.\u001b[0m\u001b[1;33m\u001b[0m\u001b[1;33m\u001b[0m\u001b[1;33m\u001b[0m\u001b[0m\n\u001b[1;32m--> 241\u001b[1;33m         self.estimators_ = Parallel(n_jobs=self.n_jobs)(delayed(_fit_binary)(\n\u001b[0m\u001b[0;32m    242\u001b[0m             self.estimator, X, column, classes=[\n\u001b[0;32m    243\u001b[0m                 \u001b[1;34m\"not %s\"\u001b[0m \u001b[1;33m%\u001b[0m \u001b[0mself\u001b[0m\u001b[1;33m.\u001b[0m\u001b[0mlabel_binarizer_\u001b[0m\u001b[1;33m.\u001b[0m\u001b[0mclasses_\u001b[0m\u001b[1;33m[\u001b[0m\u001b[0mi\u001b[0m\u001b[1;33m]\u001b[0m\u001b[1;33m,\u001b[0m\u001b[1;33m\u001b[0m\u001b[1;33m\u001b[0m\u001b[0m\n",
      "\u001b[1;32mC:\\Python\\lib\\site-packages\\joblib\\parallel.py\u001b[0m in \u001b[0;36m__call__\u001b[1;34m(self, iterable)\u001b[0m\n\u001b[0;32m   1027\u001b[0m             \u001b[1;31m# remaining jobs.\u001b[0m\u001b[1;33m\u001b[0m\u001b[1;33m\u001b[0m\u001b[1;33m\u001b[0m\u001b[0m\n\u001b[0;32m   1028\u001b[0m             \u001b[0mself\u001b[0m\u001b[1;33m.\u001b[0m\u001b[0m_iterating\u001b[0m \u001b[1;33m=\u001b[0m \u001b[1;32mFalse\u001b[0m\u001b[1;33m\u001b[0m\u001b[1;33m\u001b[0m\u001b[0m\n\u001b[1;32m-> 1029\u001b[1;33m             \u001b[1;32mif\u001b[0m \u001b[0mself\u001b[0m\u001b[1;33m.\u001b[0m\u001b[0mdispatch_one_batch\u001b[0m\u001b[1;33m(\u001b[0m\u001b[0miterator\u001b[0m\u001b[1;33m)\u001b[0m\u001b[1;33m:\u001b[0m\u001b[1;33m\u001b[0m\u001b[1;33m\u001b[0m\u001b[0m\n\u001b[0m\u001b[0;32m   1030\u001b[0m                 \u001b[0mself\u001b[0m\u001b[1;33m.\u001b[0m\u001b[0m_iterating\u001b[0m \u001b[1;33m=\u001b[0m \u001b[0mself\u001b[0m\u001b[1;33m.\u001b[0m\u001b[0m_original_iterator\u001b[0m \u001b[1;32mis\u001b[0m \u001b[1;32mnot\u001b[0m \u001b[1;32mNone\u001b[0m\u001b[1;33m\u001b[0m\u001b[1;33m\u001b[0m\u001b[0m\n\u001b[0;32m   1031\u001b[0m \u001b[1;33m\u001b[0m\u001b[0m\n",
      "\u001b[1;32mC:\\Python\\lib\\site-packages\\joblib\\parallel.py\u001b[0m in \u001b[0;36mdispatch_one_batch\u001b[1;34m(self, iterator)\u001b[0m\n\u001b[0;32m    845\u001b[0m                 \u001b[1;32mreturn\u001b[0m \u001b[1;32mFalse\u001b[0m\u001b[1;33m\u001b[0m\u001b[1;33m\u001b[0m\u001b[0m\n\u001b[0;32m    846\u001b[0m             \u001b[1;32melse\u001b[0m\u001b[1;33m:\u001b[0m\u001b[1;33m\u001b[0m\u001b[1;33m\u001b[0m\u001b[0m\n\u001b[1;32m--> 847\u001b[1;33m                 \u001b[0mself\u001b[0m\u001b[1;33m.\u001b[0m\u001b[0m_dispatch\u001b[0m\u001b[1;33m(\u001b[0m\u001b[0mtasks\u001b[0m\u001b[1;33m)\u001b[0m\u001b[1;33m\u001b[0m\u001b[1;33m\u001b[0m\u001b[0m\n\u001b[0m\u001b[0;32m    848\u001b[0m                 \u001b[1;32mreturn\u001b[0m \u001b[1;32mTrue\u001b[0m\u001b[1;33m\u001b[0m\u001b[1;33m\u001b[0m\u001b[0m\n\u001b[0;32m    849\u001b[0m \u001b[1;33m\u001b[0m\u001b[0m\n",
      "\u001b[1;32mC:\\Python\\lib\\site-packages\\joblib\\parallel.py\u001b[0m in \u001b[0;36m_dispatch\u001b[1;34m(self, batch)\u001b[0m\n\u001b[0;32m    763\u001b[0m         \u001b[1;32mwith\u001b[0m \u001b[0mself\u001b[0m\u001b[1;33m.\u001b[0m\u001b[0m_lock\u001b[0m\u001b[1;33m:\u001b[0m\u001b[1;33m\u001b[0m\u001b[1;33m\u001b[0m\u001b[0m\n\u001b[0;32m    764\u001b[0m             \u001b[0mjob_idx\u001b[0m \u001b[1;33m=\u001b[0m \u001b[0mlen\u001b[0m\u001b[1;33m(\u001b[0m\u001b[0mself\u001b[0m\u001b[1;33m.\u001b[0m\u001b[0m_jobs\u001b[0m\u001b[1;33m)\u001b[0m\u001b[1;33m\u001b[0m\u001b[1;33m\u001b[0m\u001b[0m\n\u001b[1;32m--> 765\u001b[1;33m             \u001b[0mjob\u001b[0m \u001b[1;33m=\u001b[0m \u001b[0mself\u001b[0m\u001b[1;33m.\u001b[0m\u001b[0m_backend\u001b[0m\u001b[1;33m.\u001b[0m\u001b[0mapply_async\u001b[0m\u001b[1;33m(\u001b[0m\u001b[0mbatch\u001b[0m\u001b[1;33m,\u001b[0m \u001b[0mcallback\u001b[0m\u001b[1;33m=\u001b[0m\u001b[0mcb\u001b[0m\u001b[1;33m)\u001b[0m\u001b[1;33m\u001b[0m\u001b[1;33m\u001b[0m\u001b[0m\n\u001b[0m\u001b[0;32m    766\u001b[0m             \u001b[1;31m# A job can complete so quickly than its callback is\u001b[0m\u001b[1;33m\u001b[0m\u001b[1;33m\u001b[0m\u001b[1;33m\u001b[0m\u001b[0m\n\u001b[0;32m    767\u001b[0m             \u001b[1;31m# called before we get here, causing self._jobs to\u001b[0m\u001b[1;33m\u001b[0m\u001b[1;33m\u001b[0m\u001b[1;33m\u001b[0m\u001b[0m\n",
      "\u001b[1;32mC:\\Python\\lib\\site-packages\\joblib\\_parallel_backends.py\u001b[0m in \u001b[0;36mapply_async\u001b[1;34m(self, func, callback)\u001b[0m\n\u001b[0;32m    206\u001b[0m     \u001b[1;32mdef\u001b[0m \u001b[0mapply_async\u001b[0m\u001b[1;33m(\u001b[0m\u001b[0mself\u001b[0m\u001b[1;33m,\u001b[0m \u001b[0mfunc\u001b[0m\u001b[1;33m,\u001b[0m \u001b[0mcallback\u001b[0m\u001b[1;33m=\u001b[0m\u001b[1;32mNone\u001b[0m\u001b[1;33m)\u001b[0m\u001b[1;33m:\u001b[0m\u001b[1;33m\u001b[0m\u001b[1;33m\u001b[0m\u001b[0m\n\u001b[0;32m    207\u001b[0m         \u001b[1;34m\"\"\"Schedule a func to be run\"\"\"\u001b[0m\u001b[1;33m\u001b[0m\u001b[1;33m\u001b[0m\u001b[0m\n\u001b[1;32m--> 208\u001b[1;33m         \u001b[0mresult\u001b[0m \u001b[1;33m=\u001b[0m \u001b[0mImmediateResult\u001b[0m\u001b[1;33m(\u001b[0m\u001b[0mfunc\u001b[0m\u001b[1;33m)\u001b[0m\u001b[1;33m\u001b[0m\u001b[1;33m\u001b[0m\u001b[0m\n\u001b[0m\u001b[0;32m    209\u001b[0m         \u001b[1;32mif\u001b[0m \u001b[0mcallback\u001b[0m\u001b[1;33m:\u001b[0m\u001b[1;33m\u001b[0m\u001b[1;33m\u001b[0m\u001b[0m\n\u001b[0;32m    210\u001b[0m             \u001b[0mcallback\u001b[0m\u001b[1;33m(\u001b[0m\u001b[0mresult\u001b[0m\u001b[1;33m)\u001b[0m\u001b[1;33m\u001b[0m\u001b[1;33m\u001b[0m\u001b[0m\n",
      "\u001b[1;32mC:\\Python\\lib\\site-packages\\joblib\\_parallel_backends.py\u001b[0m in \u001b[0;36m__init__\u001b[1;34m(self, batch)\u001b[0m\n\u001b[0;32m    570\u001b[0m         \u001b[1;31m# Don't delay the application, to avoid keeping the input\u001b[0m\u001b[1;33m\u001b[0m\u001b[1;33m\u001b[0m\u001b[1;33m\u001b[0m\u001b[0m\n\u001b[0;32m    571\u001b[0m         \u001b[1;31m# arguments in memory\u001b[0m\u001b[1;33m\u001b[0m\u001b[1;33m\u001b[0m\u001b[1;33m\u001b[0m\u001b[0m\n\u001b[1;32m--> 572\u001b[1;33m         \u001b[0mself\u001b[0m\u001b[1;33m.\u001b[0m\u001b[0mresults\u001b[0m \u001b[1;33m=\u001b[0m \u001b[0mbatch\u001b[0m\u001b[1;33m(\u001b[0m\u001b[1;33m)\u001b[0m\u001b[1;33m\u001b[0m\u001b[1;33m\u001b[0m\u001b[0m\n\u001b[0m\u001b[0;32m    573\u001b[0m \u001b[1;33m\u001b[0m\u001b[0m\n\u001b[0;32m    574\u001b[0m     \u001b[1;32mdef\u001b[0m \u001b[0mget\u001b[0m\u001b[1;33m(\u001b[0m\u001b[0mself\u001b[0m\u001b[1;33m)\u001b[0m\u001b[1;33m:\u001b[0m\u001b[1;33m\u001b[0m\u001b[1;33m\u001b[0m\u001b[0m\n",
      "\u001b[1;32mC:\\Python\\lib\\site-packages\\joblib\\parallel.py\u001b[0m in \u001b[0;36m__call__\u001b[1;34m(self)\u001b[0m\n\u001b[0;32m    250\u001b[0m         \u001b[1;31m# change the default number of processes to -1\u001b[0m\u001b[1;33m\u001b[0m\u001b[1;33m\u001b[0m\u001b[1;33m\u001b[0m\u001b[0m\n\u001b[0;32m    251\u001b[0m         \u001b[1;32mwith\u001b[0m \u001b[0mparallel_backend\u001b[0m\u001b[1;33m(\u001b[0m\u001b[0mself\u001b[0m\u001b[1;33m.\u001b[0m\u001b[0m_backend\u001b[0m\u001b[1;33m,\u001b[0m \u001b[0mn_jobs\u001b[0m\u001b[1;33m=\u001b[0m\u001b[0mself\u001b[0m\u001b[1;33m.\u001b[0m\u001b[0m_n_jobs\u001b[0m\u001b[1;33m)\u001b[0m\u001b[1;33m:\u001b[0m\u001b[1;33m\u001b[0m\u001b[1;33m\u001b[0m\u001b[0m\n\u001b[1;32m--> 252\u001b[1;33m             return [func(*args, **kwargs)\n\u001b[0m\u001b[0;32m    253\u001b[0m                     for func, args, kwargs in self.items]\n\u001b[0;32m    254\u001b[0m \u001b[1;33m\u001b[0m\u001b[0m\n",
      "\u001b[1;32mC:\\Python\\lib\\site-packages\\joblib\\parallel.py\u001b[0m in \u001b[0;36m<listcomp>\u001b[1;34m(.0)\u001b[0m\n\u001b[0;32m    250\u001b[0m         \u001b[1;31m# change the default number of processes to -1\u001b[0m\u001b[1;33m\u001b[0m\u001b[1;33m\u001b[0m\u001b[1;33m\u001b[0m\u001b[0m\n\u001b[0;32m    251\u001b[0m         \u001b[1;32mwith\u001b[0m \u001b[0mparallel_backend\u001b[0m\u001b[1;33m(\u001b[0m\u001b[0mself\u001b[0m\u001b[1;33m.\u001b[0m\u001b[0m_backend\u001b[0m\u001b[1;33m,\u001b[0m \u001b[0mn_jobs\u001b[0m\u001b[1;33m=\u001b[0m\u001b[0mself\u001b[0m\u001b[1;33m.\u001b[0m\u001b[0m_n_jobs\u001b[0m\u001b[1;33m)\u001b[0m\u001b[1;33m:\u001b[0m\u001b[1;33m\u001b[0m\u001b[1;33m\u001b[0m\u001b[0m\n\u001b[1;32m--> 252\u001b[1;33m             return [func(*args, **kwargs)\n\u001b[0m\u001b[0;32m    253\u001b[0m                     for func, args, kwargs in self.items]\n\u001b[0;32m    254\u001b[0m \u001b[1;33m\u001b[0m\u001b[0m\n",
      "\u001b[1;32mC:\\Python\\lib\\site-packages\\sklearn\\multiclass.py\u001b[0m in \u001b[0;36m_fit_binary\u001b[1;34m(estimator, X, y, classes)\u001b[0m\n\u001b[0;32m     79\u001b[0m     \u001b[1;32melse\u001b[0m\u001b[1;33m:\u001b[0m\u001b[1;33m\u001b[0m\u001b[1;33m\u001b[0m\u001b[0m\n\u001b[0;32m     80\u001b[0m         \u001b[0mestimator\u001b[0m \u001b[1;33m=\u001b[0m \u001b[0mclone\u001b[0m\u001b[1;33m(\u001b[0m\u001b[0mestimator\u001b[0m\u001b[1;33m)\u001b[0m\u001b[1;33m\u001b[0m\u001b[1;33m\u001b[0m\u001b[0m\n\u001b[1;32m---> 81\u001b[1;33m         \u001b[0mestimator\u001b[0m\u001b[1;33m.\u001b[0m\u001b[0mfit\u001b[0m\u001b[1;33m(\u001b[0m\u001b[0mX\u001b[0m\u001b[1;33m,\u001b[0m \u001b[0my\u001b[0m\u001b[1;33m)\u001b[0m\u001b[1;33m\u001b[0m\u001b[1;33m\u001b[0m\u001b[0m\n\u001b[0m\u001b[0;32m     82\u001b[0m     \u001b[1;32mreturn\u001b[0m \u001b[0mestimator\u001b[0m\u001b[1;33m\u001b[0m\u001b[1;33m\u001b[0m\u001b[0m\n\u001b[0;32m     83\u001b[0m \u001b[1;33m\u001b[0m\u001b[0m\n",
      "\u001b[1;32mC:\\Python\\lib\\site-packages\\sklearn\\ensemble\\_bagging.py\u001b[0m in \u001b[0;36mfit\u001b[1;34m(self, X, y, sample_weight)\u001b[0m\n\u001b[0;32m    241\u001b[0m         \u001b[0mself\u001b[0m \u001b[1;33m:\u001b[0m \u001b[0mobject\u001b[0m\u001b[1;33m\u001b[0m\u001b[1;33m\u001b[0m\u001b[0m\n\u001b[0;32m    242\u001b[0m         \"\"\"\n\u001b[1;32m--> 243\u001b[1;33m         \u001b[1;32mreturn\u001b[0m \u001b[0mself\u001b[0m\u001b[1;33m.\u001b[0m\u001b[0m_fit\u001b[0m\u001b[1;33m(\u001b[0m\u001b[0mX\u001b[0m\u001b[1;33m,\u001b[0m \u001b[0my\u001b[0m\u001b[1;33m,\u001b[0m \u001b[0mself\u001b[0m\u001b[1;33m.\u001b[0m\u001b[0mmax_samples\u001b[0m\u001b[1;33m,\u001b[0m \u001b[0msample_weight\u001b[0m\u001b[1;33m=\u001b[0m\u001b[0msample_weight\u001b[0m\u001b[1;33m)\u001b[0m\u001b[1;33m\u001b[0m\u001b[1;33m\u001b[0m\u001b[0m\n\u001b[0m\u001b[0;32m    244\u001b[0m \u001b[1;33m\u001b[0m\u001b[0m\n\u001b[0;32m    245\u001b[0m     \u001b[1;32mdef\u001b[0m \u001b[0m_parallel_args\u001b[0m\u001b[1;33m(\u001b[0m\u001b[0mself\u001b[0m\u001b[1;33m)\u001b[0m\u001b[1;33m:\u001b[0m\u001b[1;33m\u001b[0m\u001b[1;33m\u001b[0m\u001b[0m\n",
      "\u001b[1;32mC:\\Python\\lib\\site-packages\\sklearn\\ensemble\\_bagging.py\u001b[0m in \u001b[0;36m_fit\u001b[1;34m(self, X, y, max_samples, max_depth, sample_weight)\u001b[0m\n\u001b[0;32m    367\u001b[0m         \u001b[0mself\u001b[0m\u001b[1;33m.\u001b[0m\u001b[0m_seeds\u001b[0m \u001b[1;33m=\u001b[0m \u001b[0mseeds\u001b[0m\u001b[1;33m\u001b[0m\u001b[1;33m\u001b[0m\u001b[0m\n\u001b[0;32m    368\u001b[0m \u001b[1;33m\u001b[0m\u001b[0m\n\u001b[1;32m--> 369\u001b[1;33m         all_results = Parallel(n_jobs=n_jobs, verbose=self.verbose,\n\u001b[0m\u001b[0;32m    370\u001b[0m                                \u001b[1;33m**\u001b[0m\u001b[0mself\u001b[0m\u001b[1;33m.\u001b[0m\u001b[0m_parallel_args\u001b[0m\u001b[1;33m(\u001b[0m\u001b[1;33m)\u001b[0m\u001b[1;33m)\u001b[0m\u001b[1;33m(\u001b[0m\u001b[1;33m\u001b[0m\u001b[1;33m\u001b[0m\u001b[0m\n\u001b[0;32m    371\u001b[0m             delayed(_parallel_build_estimators)(\n",
      "\u001b[1;32mC:\\Python\\lib\\site-packages\\joblib\\parallel.py\u001b[0m in \u001b[0;36m__call__\u001b[1;34m(self, iterable)\u001b[0m\n\u001b[0;32m   1027\u001b[0m             \u001b[1;31m# remaining jobs.\u001b[0m\u001b[1;33m\u001b[0m\u001b[1;33m\u001b[0m\u001b[1;33m\u001b[0m\u001b[0m\n\u001b[0;32m   1028\u001b[0m             \u001b[0mself\u001b[0m\u001b[1;33m.\u001b[0m\u001b[0m_iterating\u001b[0m \u001b[1;33m=\u001b[0m \u001b[1;32mFalse\u001b[0m\u001b[1;33m\u001b[0m\u001b[1;33m\u001b[0m\u001b[0m\n\u001b[1;32m-> 1029\u001b[1;33m             \u001b[1;32mif\u001b[0m \u001b[0mself\u001b[0m\u001b[1;33m.\u001b[0m\u001b[0mdispatch_one_batch\u001b[0m\u001b[1;33m(\u001b[0m\u001b[0miterator\u001b[0m\u001b[1;33m)\u001b[0m\u001b[1;33m:\u001b[0m\u001b[1;33m\u001b[0m\u001b[1;33m\u001b[0m\u001b[0m\n\u001b[0m\u001b[0;32m   1030\u001b[0m                 \u001b[0mself\u001b[0m\u001b[1;33m.\u001b[0m\u001b[0m_iterating\u001b[0m \u001b[1;33m=\u001b[0m \u001b[0mself\u001b[0m\u001b[1;33m.\u001b[0m\u001b[0m_original_iterator\u001b[0m \u001b[1;32mis\u001b[0m \u001b[1;32mnot\u001b[0m \u001b[1;32mNone\u001b[0m\u001b[1;33m\u001b[0m\u001b[1;33m\u001b[0m\u001b[0m\n\u001b[0;32m   1031\u001b[0m \u001b[1;33m\u001b[0m\u001b[0m\n",
      "\u001b[1;32mC:\\Python\\lib\\site-packages\\joblib\\parallel.py\u001b[0m in \u001b[0;36mdispatch_one_batch\u001b[1;34m(self, iterator)\u001b[0m\n\u001b[0;32m    845\u001b[0m                 \u001b[1;32mreturn\u001b[0m \u001b[1;32mFalse\u001b[0m\u001b[1;33m\u001b[0m\u001b[1;33m\u001b[0m\u001b[0m\n\u001b[0;32m    846\u001b[0m             \u001b[1;32melse\u001b[0m\u001b[1;33m:\u001b[0m\u001b[1;33m\u001b[0m\u001b[1;33m\u001b[0m\u001b[0m\n\u001b[1;32m--> 847\u001b[1;33m                 \u001b[0mself\u001b[0m\u001b[1;33m.\u001b[0m\u001b[0m_dispatch\u001b[0m\u001b[1;33m(\u001b[0m\u001b[0mtasks\u001b[0m\u001b[1;33m)\u001b[0m\u001b[1;33m\u001b[0m\u001b[1;33m\u001b[0m\u001b[0m\n\u001b[0m\u001b[0;32m    848\u001b[0m                 \u001b[1;32mreturn\u001b[0m \u001b[1;32mTrue\u001b[0m\u001b[1;33m\u001b[0m\u001b[1;33m\u001b[0m\u001b[0m\n\u001b[0;32m    849\u001b[0m \u001b[1;33m\u001b[0m\u001b[0m\n",
      "\u001b[1;32mC:\\Python\\lib\\site-packages\\joblib\\parallel.py\u001b[0m in \u001b[0;36m_dispatch\u001b[1;34m(self, batch)\u001b[0m\n\u001b[0;32m    763\u001b[0m         \u001b[1;32mwith\u001b[0m \u001b[0mself\u001b[0m\u001b[1;33m.\u001b[0m\u001b[0m_lock\u001b[0m\u001b[1;33m:\u001b[0m\u001b[1;33m\u001b[0m\u001b[1;33m\u001b[0m\u001b[0m\n\u001b[0;32m    764\u001b[0m             \u001b[0mjob_idx\u001b[0m \u001b[1;33m=\u001b[0m \u001b[0mlen\u001b[0m\u001b[1;33m(\u001b[0m\u001b[0mself\u001b[0m\u001b[1;33m.\u001b[0m\u001b[0m_jobs\u001b[0m\u001b[1;33m)\u001b[0m\u001b[1;33m\u001b[0m\u001b[1;33m\u001b[0m\u001b[0m\n\u001b[1;32m--> 765\u001b[1;33m             \u001b[0mjob\u001b[0m \u001b[1;33m=\u001b[0m \u001b[0mself\u001b[0m\u001b[1;33m.\u001b[0m\u001b[0m_backend\u001b[0m\u001b[1;33m.\u001b[0m\u001b[0mapply_async\u001b[0m\u001b[1;33m(\u001b[0m\u001b[0mbatch\u001b[0m\u001b[1;33m,\u001b[0m \u001b[0mcallback\u001b[0m\u001b[1;33m=\u001b[0m\u001b[0mcb\u001b[0m\u001b[1;33m)\u001b[0m\u001b[1;33m\u001b[0m\u001b[1;33m\u001b[0m\u001b[0m\n\u001b[0m\u001b[0;32m    766\u001b[0m             \u001b[1;31m# A job can complete so quickly than its callback is\u001b[0m\u001b[1;33m\u001b[0m\u001b[1;33m\u001b[0m\u001b[1;33m\u001b[0m\u001b[0m\n\u001b[0;32m    767\u001b[0m             \u001b[1;31m# called before we get here, causing self._jobs to\u001b[0m\u001b[1;33m\u001b[0m\u001b[1;33m\u001b[0m\u001b[1;33m\u001b[0m\u001b[0m\n",
      "\u001b[1;32mC:\\Python\\lib\\site-packages\\joblib\\_parallel_backends.py\u001b[0m in \u001b[0;36mapply_async\u001b[1;34m(self, func, callback)\u001b[0m\n\u001b[0;32m    206\u001b[0m     \u001b[1;32mdef\u001b[0m \u001b[0mapply_async\u001b[0m\u001b[1;33m(\u001b[0m\u001b[0mself\u001b[0m\u001b[1;33m,\u001b[0m \u001b[0mfunc\u001b[0m\u001b[1;33m,\u001b[0m \u001b[0mcallback\u001b[0m\u001b[1;33m=\u001b[0m\u001b[1;32mNone\u001b[0m\u001b[1;33m)\u001b[0m\u001b[1;33m:\u001b[0m\u001b[1;33m\u001b[0m\u001b[1;33m\u001b[0m\u001b[0m\n\u001b[0;32m    207\u001b[0m         \u001b[1;34m\"\"\"Schedule a func to be run\"\"\"\u001b[0m\u001b[1;33m\u001b[0m\u001b[1;33m\u001b[0m\u001b[0m\n\u001b[1;32m--> 208\u001b[1;33m         \u001b[0mresult\u001b[0m \u001b[1;33m=\u001b[0m \u001b[0mImmediateResult\u001b[0m\u001b[1;33m(\u001b[0m\u001b[0mfunc\u001b[0m\u001b[1;33m)\u001b[0m\u001b[1;33m\u001b[0m\u001b[1;33m\u001b[0m\u001b[0m\n\u001b[0m\u001b[0;32m    209\u001b[0m         \u001b[1;32mif\u001b[0m \u001b[0mcallback\u001b[0m\u001b[1;33m:\u001b[0m\u001b[1;33m\u001b[0m\u001b[1;33m\u001b[0m\u001b[0m\n\u001b[0;32m    210\u001b[0m             \u001b[0mcallback\u001b[0m\u001b[1;33m(\u001b[0m\u001b[0mresult\u001b[0m\u001b[1;33m)\u001b[0m\u001b[1;33m\u001b[0m\u001b[1;33m\u001b[0m\u001b[0m\n",
      "\u001b[1;32mC:\\Python\\lib\\site-packages\\joblib\\_parallel_backends.py\u001b[0m in \u001b[0;36m__init__\u001b[1;34m(self, batch)\u001b[0m\n\u001b[0;32m    570\u001b[0m         \u001b[1;31m# Don't delay the application, to avoid keeping the input\u001b[0m\u001b[1;33m\u001b[0m\u001b[1;33m\u001b[0m\u001b[1;33m\u001b[0m\u001b[0m\n\u001b[0;32m    571\u001b[0m         \u001b[1;31m# arguments in memory\u001b[0m\u001b[1;33m\u001b[0m\u001b[1;33m\u001b[0m\u001b[1;33m\u001b[0m\u001b[0m\n\u001b[1;32m--> 572\u001b[1;33m         \u001b[0mself\u001b[0m\u001b[1;33m.\u001b[0m\u001b[0mresults\u001b[0m \u001b[1;33m=\u001b[0m \u001b[0mbatch\u001b[0m\u001b[1;33m(\u001b[0m\u001b[1;33m)\u001b[0m\u001b[1;33m\u001b[0m\u001b[1;33m\u001b[0m\u001b[0m\n\u001b[0m\u001b[0;32m    573\u001b[0m \u001b[1;33m\u001b[0m\u001b[0m\n\u001b[0;32m    574\u001b[0m     \u001b[1;32mdef\u001b[0m \u001b[0mget\u001b[0m\u001b[1;33m(\u001b[0m\u001b[0mself\u001b[0m\u001b[1;33m)\u001b[0m\u001b[1;33m:\u001b[0m\u001b[1;33m\u001b[0m\u001b[1;33m\u001b[0m\u001b[0m\n",
      "\u001b[1;32mC:\\Python\\lib\\site-packages\\joblib\\parallel.py\u001b[0m in \u001b[0;36m__call__\u001b[1;34m(self)\u001b[0m\n\u001b[0;32m    250\u001b[0m         \u001b[1;31m# change the default number of processes to -1\u001b[0m\u001b[1;33m\u001b[0m\u001b[1;33m\u001b[0m\u001b[1;33m\u001b[0m\u001b[0m\n\u001b[0;32m    251\u001b[0m         \u001b[1;32mwith\u001b[0m \u001b[0mparallel_backend\u001b[0m\u001b[1;33m(\u001b[0m\u001b[0mself\u001b[0m\u001b[1;33m.\u001b[0m\u001b[0m_backend\u001b[0m\u001b[1;33m,\u001b[0m \u001b[0mn_jobs\u001b[0m\u001b[1;33m=\u001b[0m\u001b[0mself\u001b[0m\u001b[1;33m.\u001b[0m\u001b[0m_n_jobs\u001b[0m\u001b[1;33m)\u001b[0m\u001b[1;33m:\u001b[0m\u001b[1;33m\u001b[0m\u001b[1;33m\u001b[0m\u001b[0m\n\u001b[1;32m--> 252\u001b[1;33m             return [func(*args, **kwargs)\n\u001b[0m\u001b[0;32m    253\u001b[0m                     for func, args, kwargs in self.items]\n\u001b[0;32m    254\u001b[0m \u001b[1;33m\u001b[0m\u001b[0m\n",
      "\u001b[1;32mC:\\Python\\lib\\site-packages\\joblib\\parallel.py\u001b[0m in \u001b[0;36m<listcomp>\u001b[1;34m(.0)\u001b[0m\n\u001b[0;32m    250\u001b[0m         \u001b[1;31m# change the default number of processes to -1\u001b[0m\u001b[1;33m\u001b[0m\u001b[1;33m\u001b[0m\u001b[1;33m\u001b[0m\u001b[0m\n\u001b[0;32m    251\u001b[0m         \u001b[1;32mwith\u001b[0m \u001b[0mparallel_backend\u001b[0m\u001b[1;33m(\u001b[0m\u001b[0mself\u001b[0m\u001b[1;33m.\u001b[0m\u001b[0m_backend\u001b[0m\u001b[1;33m,\u001b[0m \u001b[0mn_jobs\u001b[0m\u001b[1;33m=\u001b[0m\u001b[0mself\u001b[0m\u001b[1;33m.\u001b[0m\u001b[0m_n_jobs\u001b[0m\u001b[1;33m)\u001b[0m\u001b[1;33m:\u001b[0m\u001b[1;33m\u001b[0m\u001b[1;33m\u001b[0m\u001b[0m\n\u001b[1;32m--> 252\u001b[1;33m             return [func(*args, **kwargs)\n\u001b[0m\u001b[0;32m    253\u001b[0m                     for func, args, kwargs in self.items]\n\u001b[0;32m    254\u001b[0m \u001b[1;33m\u001b[0m\u001b[0m\n",
      "\u001b[1;32mC:\\Python\\lib\\site-packages\\sklearn\\ensemble\\_bagging.py\u001b[0m in \u001b[0;36m_parallel_build_estimators\u001b[1;34m(n_estimators, ensemble, X, y, sample_weight, seeds, total_n_estimators, verbose)\u001b[0m\n\u001b[0;32m    108\u001b[0m                 \u001b[0mcurr_sample_weight\u001b[0m\u001b[1;33m[\u001b[0m\u001b[0mnot_indices_mask\u001b[0m\u001b[1;33m]\u001b[0m \u001b[1;33m=\u001b[0m \u001b[1;36m0\u001b[0m\u001b[1;33m\u001b[0m\u001b[1;33m\u001b[0m\u001b[0m\n\u001b[0;32m    109\u001b[0m \u001b[1;33m\u001b[0m\u001b[0m\n\u001b[1;32m--> 110\u001b[1;33m             \u001b[0mestimator\u001b[0m\u001b[1;33m.\u001b[0m\u001b[0mfit\u001b[0m\u001b[1;33m(\u001b[0m\u001b[0mX\u001b[0m\u001b[1;33m[\u001b[0m\u001b[1;33m:\u001b[0m\u001b[1;33m,\u001b[0m \u001b[0mfeatures\u001b[0m\u001b[1;33m]\u001b[0m\u001b[1;33m,\u001b[0m \u001b[0my\u001b[0m\u001b[1;33m,\u001b[0m \u001b[0msample_weight\u001b[0m\u001b[1;33m=\u001b[0m\u001b[0mcurr_sample_weight\u001b[0m\u001b[1;33m)\u001b[0m\u001b[1;33m\u001b[0m\u001b[1;33m\u001b[0m\u001b[0m\n\u001b[0m\u001b[0;32m    111\u001b[0m \u001b[1;33m\u001b[0m\u001b[0m\n\u001b[0;32m    112\u001b[0m         \u001b[1;32melse\u001b[0m\u001b[1;33m:\u001b[0m\u001b[1;33m\u001b[0m\u001b[1;33m\u001b[0m\u001b[0m\n",
      "\u001b[1;32mC:\\Python\\lib\\site-packages\\sklearn\\svm\\_base.py\u001b[0m in \u001b[0;36mfit\u001b[1;34m(self, X, y, sample_weight)\u001b[0m\n\u001b[0;32m    162\u001b[0m                                        accept_large_sparse=False)\n\u001b[0;32m    163\u001b[0m \u001b[1;33m\u001b[0m\u001b[0m\n\u001b[1;32m--> 164\u001b[1;33m         \u001b[0my\u001b[0m \u001b[1;33m=\u001b[0m \u001b[0mself\u001b[0m\u001b[1;33m.\u001b[0m\u001b[0m_validate_targets\u001b[0m\u001b[1;33m(\u001b[0m\u001b[0my\u001b[0m\u001b[1;33m)\u001b[0m\u001b[1;33m\u001b[0m\u001b[1;33m\u001b[0m\u001b[0m\n\u001b[0m\u001b[0;32m    165\u001b[0m \u001b[1;33m\u001b[0m\u001b[0m\n\u001b[0;32m    166\u001b[0m         sample_weight = np.asarray([]\n",
      "\u001b[1;32mC:\\Python\\lib\\site-packages\\sklearn\\svm\\_base.py\u001b[0m in \u001b[0;36m_validate_targets\u001b[1;34m(self, y)\u001b[0m\n\u001b[0;32m    544\u001b[0m         \u001b[0mcheck_classification_targets\u001b[0m\u001b[1;33m(\u001b[0m\u001b[0my\u001b[0m\u001b[1;33m)\u001b[0m\u001b[1;33m\u001b[0m\u001b[1;33m\u001b[0m\u001b[0m\n\u001b[0;32m    545\u001b[0m         \u001b[0mcls\u001b[0m\u001b[1;33m,\u001b[0m \u001b[0my\u001b[0m \u001b[1;33m=\u001b[0m \u001b[0mnp\u001b[0m\u001b[1;33m.\u001b[0m\u001b[0munique\u001b[0m\u001b[1;33m(\u001b[0m\u001b[0my_\u001b[0m\u001b[1;33m,\u001b[0m \u001b[0mreturn_inverse\u001b[0m\u001b[1;33m=\u001b[0m\u001b[1;32mTrue\u001b[0m\u001b[1;33m)\u001b[0m\u001b[1;33m\u001b[0m\u001b[1;33m\u001b[0m\u001b[0m\n\u001b[1;32m--> 546\u001b[1;33m         self.class_weight_ = compute_class_weight(self.class_weight,\n\u001b[0m\u001b[0;32m    547\u001b[0m                                                   classes=cls, y=y_)\n\u001b[0;32m    548\u001b[0m         \u001b[1;32mif\u001b[0m \u001b[0mlen\u001b[0m\u001b[1;33m(\u001b[0m\u001b[0mcls\u001b[0m\u001b[1;33m)\u001b[0m \u001b[1;33m<\u001b[0m \u001b[1;36m2\u001b[0m\u001b[1;33m:\u001b[0m\u001b[1;33m\u001b[0m\u001b[1;33m\u001b[0m\u001b[0m\n",
      "\u001b[1;32mC:\\Python\\lib\\site-packages\\sklearn\\utils\\validation.py\u001b[0m in \u001b[0;36minner_f\u001b[1;34m(*args, **kwargs)\u001b[0m\n\u001b[0;32m     70\u001b[0m                           FutureWarning)\n\u001b[0;32m     71\u001b[0m         \u001b[0mkwargs\u001b[0m\u001b[1;33m.\u001b[0m\u001b[0mupdate\u001b[0m\u001b[1;33m(\u001b[0m\u001b[1;33m{\u001b[0m\u001b[0mk\u001b[0m\u001b[1;33m:\u001b[0m \u001b[0marg\u001b[0m \u001b[1;32mfor\u001b[0m \u001b[0mk\u001b[0m\u001b[1;33m,\u001b[0m \u001b[0marg\u001b[0m \u001b[1;32min\u001b[0m \u001b[0mzip\u001b[0m\u001b[1;33m(\u001b[0m\u001b[0msig\u001b[0m\u001b[1;33m.\u001b[0m\u001b[0mparameters\u001b[0m\u001b[1;33m,\u001b[0m \u001b[0margs\u001b[0m\u001b[1;33m)\u001b[0m\u001b[1;33m}\u001b[0m\u001b[1;33m)\u001b[0m\u001b[1;33m\u001b[0m\u001b[1;33m\u001b[0m\u001b[0m\n\u001b[1;32m---> 72\u001b[1;33m         \u001b[1;32mreturn\u001b[0m \u001b[0mf\u001b[0m\u001b[1;33m(\u001b[0m\u001b[1;33m**\u001b[0m\u001b[0mkwargs\u001b[0m\u001b[1;33m)\u001b[0m\u001b[1;33m\u001b[0m\u001b[1;33m\u001b[0m\u001b[0m\n\u001b[0m\u001b[0;32m     73\u001b[0m     \u001b[1;32mreturn\u001b[0m \u001b[0minner_f\u001b[0m\u001b[1;33m\u001b[0m\u001b[1;33m\u001b[0m\u001b[0m\n\u001b[0;32m     74\u001b[0m \u001b[1;33m\u001b[0m\u001b[0m\n",
      "\u001b[1;32mC:\\Python\\lib\\site-packages\\sklearn\\utils\\class_weight.py\u001b[0m in \u001b[0;36mcompute_class_weight\u001b[1;34m(class_weight, classes, y)\u001b[0m\n\u001b[0;32m     61\u001b[0m         \u001b[0mweight\u001b[0m \u001b[1;33m=\u001b[0m \u001b[0mnp\u001b[0m\u001b[1;33m.\u001b[0m\u001b[0mones\u001b[0m\u001b[1;33m(\u001b[0m\u001b[0mclasses\u001b[0m\u001b[1;33m.\u001b[0m\u001b[0mshape\u001b[0m\u001b[1;33m[\u001b[0m\u001b[1;36m0\u001b[0m\u001b[1;33m]\u001b[0m\u001b[1;33m,\u001b[0m \u001b[0mdtype\u001b[0m\u001b[1;33m=\u001b[0m\u001b[0mnp\u001b[0m\u001b[1;33m.\u001b[0m\u001b[0mfloat64\u001b[0m\u001b[1;33m,\u001b[0m \u001b[0morder\u001b[0m\u001b[1;33m=\u001b[0m\u001b[1;34m'C'\u001b[0m\u001b[1;33m)\u001b[0m\u001b[1;33m\u001b[0m\u001b[1;33m\u001b[0m\u001b[0m\n\u001b[0;32m     62\u001b[0m         \u001b[1;32mif\u001b[0m \u001b[1;32mnot\u001b[0m \u001b[0misinstance\u001b[0m\u001b[1;33m(\u001b[0m\u001b[0mclass_weight\u001b[0m\u001b[1;33m,\u001b[0m \u001b[0mdict\u001b[0m\u001b[1;33m)\u001b[0m\u001b[1;33m:\u001b[0m\u001b[1;33m\u001b[0m\u001b[1;33m\u001b[0m\u001b[0m\n\u001b[1;32m---> 63\u001b[1;33m             raise ValueError(\"class_weight must be dict, 'balanced', or None,\"\n\u001b[0m\u001b[0;32m     64\u001b[0m                              \" got: %r\" % class_weight)\n\u001b[0;32m     65\u001b[0m         \u001b[1;32mfor\u001b[0m \u001b[0mc\u001b[0m \u001b[1;32min\u001b[0m \u001b[0mclass_weight\u001b[0m\u001b[1;33m:\u001b[0m\u001b[1;33m\u001b[0m\u001b[1;33m\u001b[0m\u001b[0m\n",
      "\u001b[1;31mValueError\u001b[0m: class_weight must be dict, 'balanced', or None, got: 'auto'"
     ]
    }
   ],
   "source": [
    "n_estimators = 10\n",
    "\n",
    "clf = OneVsRestClassifier(BaggingClassifier(SVC(kernel='linear', probability=True, class_weight='balanced', verbose=1), max_samples=1.0 / n_estimators, n_estimators=n_estimators, bootstrap=False), n_jobs=-1)\n",
    "# clf = OneVsRestClassifier(LinearSVC(class_weight='balanced', verbose=1), n_jobs=-1)\n",
    "\n",
    "# clf.fit(X_tuning, y_tuning)\n",
    "clf.fit(X_train, y_train)\n",
    "\n",
    "printScore(clf, X_tuning, y_tuning)\n",
    "printScore(clf, X_train, y_train)"
   ]
  },
  {
   "cell_type": "code",
   "execution_count": 46,
   "metadata": {
    "tags": []
   },
   "outputs": [
    {
     "output_type": "stream",
     "name": "stdout",
     "text": "Test score:  0.8820649345741947\nTrain score:  0.9024993421631269\nTest score:  0.9066216205675242\nTrain score:  0.9216134890902635\n"
    }
   ],
   "source": [
    "model_knn = KNeighborsClassifier(n_neighbors=31, weights='uniform', n_jobs=-1)\n",
    "double_test(model_knn, False)"
   ]
  },
  {
   "cell_type": "code",
   "execution_count": 47,
   "metadata": {
    "tags": []
   },
   "outputs": [
    {
     "output_type": "stream",
     "name": "stdout",
     "text": "Test score:  0.8876407962286951\nTrain score:  0.914661857924005\nTest score:  0.9054184607901394\nTrain score:  0.9187854465722847\n"
    }
   ],
   "source": [
    "model_dtc = DecisionTreeClassifier(max_depth=11, min_samples_leaf=25 )\n",
    "double_test(model_dtc, False)"
   ]
  },
  {
   "cell_type": "code",
   "execution_count": 48,
   "metadata": {
    "tags": []
   },
   "outputs": [
    {
     "output_type": "stream",
     "name": "stdout",
     "text": "Test score:  0.7788982689125018\nTrain score:  0.7788129217723151\nTest score: 0.7841327374313463\nTrain score:  0.7840810749940099\n"
    }
   ],
   "source": [
    "model_gs = GaussianNB()\n",
    "double_test(model_gs)"
   ]
  },
  {
   "cell_type": "code",
   "execution_count": 49,
   "metadata": {
    "tags": []
   },
   "outputs": [
    {
     "output_type": "stream",
     "name": "stdout",
     "text": "Test score:  0.9142009316509266\nTrain score:  0.9510960810805467\nTest score:  0.9270191535417839\nTrain score:  0.9382696364452816\n"
    }
   ],
   "source": [
    "model_gb = GradientBoostingClassifier(n_estimators=152, max_depth=5)\n",
    "double_test(model_gb, False)"
   ]
  },
  {
   "cell_type": "code",
   "execution_count": 50,
   "metadata": {
    "tags": []
   },
   "outputs": [
    {
     "output_type": "stream",
     "name": "stdout",
     "text": "Test score:  0.9014062558414103\nTrain score:  0.9421819338196672\nTest score:  0.9148273893835649\nTrain score:  0.9433150413509643\n"
    }
   ],
   "source": [
    "model_rf = RandomForestClassifier(n_estimators = 125, min_samples_leaf=5)\n",
    "double_test(model_rf, False)"
   ]
  },
  {
   "cell_type": "markdown",
   "metadata": {},
   "source": [
    "### Final Fitting"
   ]
  },
  {
   "cell_type": "code",
   "execution_count": 31,
   "metadata": {},
   "outputs": [
    {
     "output_type": "execute_result",
     "data": {
      "text/plain": "RandomForestClassifier(n_estimators=127)"
     },
     "metadata": {},
     "execution_count": 31
    }
   ],
   "source": [
    "# Final Fitting\n",
    "chosen_model = model_rf\n",
    "\n",
    "chosen_model.fit(X_train,y_train)"
   ]
  },
  {
   "cell_type": "markdown",
   "metadata": {},
   "source": [
    "### Saving Model"
   ]
  },
  {
   "cell_type": "code",
   "execution_count": 32,
   "metadata": {},
   "outputs": [
    {
     "output_type": "execute_result",
     "data": {
      "text/plain": "['model_5.sav']"
     },
     "metadata": {},
     "execution_count": 32
    }
   ],
   "source": [
    "import joblib\n",
    "\n",
    "# save the model to disk\n",
    "filename = 'model_5.sav'\n",
    "joblib.dump(chosen_model, filename)"
   ]
  },
  {
   "cell_type": "markdown",
   "metadata": {},
   "source": [
    "### Predicting + Exporting Submission"
   ]
  },
  {
   "cell_type": "code",
   "execution_count": 33,
   "metadata": {},
   "outputs": [],
   "source": [
    "y_pred = chosen_model.predict(X_test)\n",
    "\n",
    "submission = pd.DataFrame()\n",
    "submission['id'] = df_test[\"id\"]\n",
    "submission['Gaji'] = y_pred\n",
    "submission.to_csv('submission.csv',index=False)"
   ]
  },
  {
   "cell_type": "code",
   "execution_count": null,
   "metadata": {},
   "outputs": [],
   "source": []
  }
 ],
 "metadata": {
  "kernelspec": {
   "display_name": "Python 3.8.0 32-bit",
   "language": "python",
   "name": "python_defaultSpec_1597531742060"
  },
  "language_info": {
   "codemirror_mode": {
    "name": "ipython",
    "version": 3
   },
   "file_extension": ".py",
   "mimetype": "text/x-python",
   "name": "python",
   "nbconvert_exporter": "python",
   "pygments_lexer": "ipython3",
   "version": "3.8.0-final"
  }
 },
 "nbformat": 4,
 "nbformat_minor": 2
}